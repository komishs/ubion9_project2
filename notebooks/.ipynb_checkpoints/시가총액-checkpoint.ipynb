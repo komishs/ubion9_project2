{
 "cells": [
  {
   "cell_type": "code",
   "execution_count": 1,
   "id": "ed753885-6c3d-4c54-ab2a-9ea7298a528d",
   "metadata": {},
   "outputs": [
    {
     "name": "stdout",
     "output_type": "stream",
     "text": [
      "'marcap'에 복제합니다...\n",
      "remote: Enumerating objects: 4421, done.\u001b[K\n",
      "remote: Counting objects: 100% (260/260), done.\u001b[K\n",
      "remote: Compressing objects: 100% (78/78), done.\u001b[K\n",
      "remote: Total 4421 (delta 191), reused 251 (delta 182), pack-reused 4161\u001b[K\n",
      "오브젝트를 받는 중: 100% (4421/4421), 2.71 GiB | 19.04 MiB/s, 완료.\n",
      "델타를 알아내는 중: 100% (3147/3147), 완료.\n",
      "Updating files: 100% (38/38), 완료.\n"
     ]
    }
   ],
   "source": [
    "!git clone \"https://github.com/FinanceData/marcap.git\" marcap"
   ]
  },
  {
   "cell_type": "code",
   "execution_count": 8,
   "id": "b00ac87c-a906-4ee5-bb24-707490e134cf",
   "metadata": {},
   "outputs": [],
   "source": [
    "# https://github.com/FinanceData/marcap\n",
    "\n",
    "from marcap import marcap_data\n",
    "\n",
    "# 특정 날짜 전종목\n",
    "df = marcap_data('2024-03-11') \n",
    "\n",
    "# # 특정 기간 전종목\n",
    "# df = marcap_data('2020-01-01', '2020-12-31') \n",
    "\n",
    "# # 특정 기간 단일 종목\n",
    "# df = marcap_data('2021-01-01', '2021-01-31', code='005930')"
   ]
  },
  {
   "cell_type": "code",
   "execution_count": 9,
   "id": "0e85d593-97c4-4f95-b42c-aeada2bee221",
   "metadata": {},
   "outputs": [
    {
     "data": {
      "text/html": [
       "<div>\n",
       "<style scoped>\n",
       "    .dataframe tbody tr th:only-of-type {\n",
       "        vertical-align: middle;\n",
       "    }\n",
       "\n",
       "    .dataframe tbody tr th {\n",
       "        vertical-align: top;\n",
       "    }\n",
       "\n",
       "    .dataframe thead th {\n",
       "        text-align: right;\n",
       "    }\n",
       "</style>\n",
       "<table border=\"1\" class=\"dataframe\">\n",
       "  <thead>\n",
       "    <tr style=\"text-align: right;\">\n",
       "      <th></th>\n",
       "      <th>Code</th>\n",
       "      <th>Name</th>\n",
       "      <th>Close</th>\n",
       "      <th>Dept</th>\n",
       "      <th>ChangeCode</th>\n",
       "      <th>Changes</th>\n",
       "      <th>ChagesRatio</th>\n",
       "      <th>Volume</th>\n",
       "      <th>Amount</th>\n",
       "      <th>Open</th>\n",
       "      <th>High</th>\n",
       "      <th>Low</th>\n",
       "      <th>Marcap</th>\n",
       "      <th>Stocks</th>\n",
       "      <th>Market</th>\n",
       "      <th>MarketId</th>\n",
       "      <th>Rank</th>\n",
       "    </tr>\n",
       "    <tr>\n",
       "      <th>Date</th>\n",
       "      <th></th>\n",
       "      <th></th>\n",
       "      <th></th>\n",
       "      <th></th>\n",
       "      <th></th>\n",
       "      <th></th>\n",
       "      <th></th>\n",
       "      <th></th>\n",
       "      <th></th>\n",
       "      <th></th>\n",
       "      <th></th>\n",
       "      <th></th>\n",
       "      <th></th>\n",
       "      <th></th>\n",
       "      <th></th>\n",
       "      <th></th>\n",
       "      <th></th>\n",
       "    </tr>\n",
       "  </thead>\n",
       "  <tbody>\n",
       "  </tbody>\n",
       "</table>\n",
       "</div>"
      ],
      "text/plain": [
       "Empty DataFrame\n",
       "Columns: [Code, Name, Close, Dept, ChangeCode, Changes, ChagesRatio, Volume, Amount, Open, High, Low, Marcap, Stocks, Market, MarketId, Rank]\n",
       "Index: []"
      ]
     },
     "execution_count": 9,
     "metadata": {},
     "output_type": "execute_result"
    }
   ],
   "source": [
    "df"
   ]
  },
  {
   "cell_type": "code",
   "execution_count": null,
   "id": "6efefe21-6924-4510-93d7-74b398769529",
   "metadata": {},
   "outputs": [],
   "source": []
  }
 ],
 "metadata": {
  "kernelspec": {
   "display_name": "Python 3 (ipykernel)",
   "language": "python",
   "name": "python3"
  },
  "language_info": {
   "codemirror_mode": {
    "name": "ipython",
    "version": 3
   },
   "file_extension": ".py",
   "mimetype": "text/x-python",
   "name": "python",
   "nbconvert_exporter": "python",
   "pygments_lexer": "ipython3",
   "version": "3.12.1"
  }
 },
 "nbformat": 4,
 "nbformat_minor": 5
}
