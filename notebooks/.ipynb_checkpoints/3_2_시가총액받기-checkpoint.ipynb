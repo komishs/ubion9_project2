{
 "cells": [
  {
   "cell_type": "code",
   "execution_count": 2,
   "id": "3151d9a7-bfb4-4fe6-abfe-5f6dca9fde07",
   "metadata": {},
   "outputs": [
    {
     "name": "stdout",
     "output_type": "stream",
     "text": [
      "apple gothic\n"
     ]
    }
   ],
   "source": [
    "from tqdm import tqdm\n",
    "import warnings\n",
    "warnings.filterwarnings('ignore')\n",
    "\n",
    "import numpy as np\n",
    "\n",
    "import pandas as pd\n",
    "# 모든 행을 출력하도록 설정\n",
    "pd.set_option('display.max_rows', None)\n",
    "pd.set_option('display.max_columns', None)\n",
    "\n",
    "# 기본값으로 설정 (처음 5개와 마지막 5개 행만 출력)\n",
    "pd.reset_option('display.max_rows')\n",
    "\n",
    "# 출력 포맷 설정 (소수점 4자리까지)\n",
    "pd.options.display.float_format = '{:.4f}'.format\n",
    "\n",
    "import platform\n",
    "import seaborn as sns\n",
    "\n",
    "import matplotlib.pyplot as plt\n",
    "\n",
    "# 운영 체제 확인\n",
    "if platform.system() == 'Darwin':  # Mac\n",
    "    print('apple gothic')\n",
    "    font_name = 'AppleGothic'\n",
    "elif platform.system() == 'Windows':  # Windows\n",
    "    font_name = 'NanumGothic'\n",
    "else:\n",
    "    font_name = None\n",
    "\n",
    "# 한글 폰트 설정\n",
    "if font_name:\n",
    "    plt.rcParams['font.family'] = font_name\n",
    "\n",
    "# 마이너스 부호 설정\n",
    "plt.rcParams['axes.unicode_minus'] = False"
   ]
  },
  {
   "cell_type": "code",
   "execution_count": 3,
   "id": "07b328f6-afc8-4d2b-be46-7df3eea7a6fe",
   "metadata": {},
   "outputs": [
    {
     "data": {
      "text/plain": [
       "Index(['회사명', '거래소코드', '회계년도', '상장일', '상장폐지일', '결산년도', '상장년도', 'market', '자산',\n",
       "       '유형자산', '유동자산', '재고자산', '자본', '매출액', '매출원가', '판매비와 관리비(물류원가 등 포함)',\n",
       "       '기타(영업)비용', '당기제조원가', '급여', '퇴직급여', '상품매출원가', '제품매출원가', '감가상각비',\n",
       "       '대손상각비', '개발비상각', '기타무형자산상각비', '외환차익1', '외화환산이익1', '외환차손1', '외화환산손실1',\n",
       "       '외환차익2', '외화환산이익2', '외환차손2', '외환환산손실2', '무형자산', '건설중인자산', '토지', '자본잉여금',\n",
       "       '이익잉여금(결손금)', '미처분이익잉여금(결손금)', '기타임의적립금', '(연차배당)', '(중간배당)',\n",
       "       '배당금지급(-)', '단기차입금', '매입채무 및 기타유동채무', '매출채권 및 기타유동채권', '비유동자산', '사채',\n",
       "       '유동금융자산', '유동부채', '유동성장기부채', '장기매입채무 및 기타비유동채무', '장기매출채권 및 기타비유동채권',\n",
       "       '장기차입금', '현금및현금성자산', '영업활동으로 인한 현금흐름', '유형자산의 증가', '무형자산의 증가', '연구개발비',\n",
       "       '종업원1인당 매출액(IFRS)(백만원)', '종업원1인당 부가가치(IFRS)(백만원)',\n",
       "       '종업원1인당 인건비(IFRS)(백만원)', '종업원수(IFRS)', '판매비와 관리비', '비유동부채', '영업활동현금흐름',\n",
       "       '부채', '유형자산의증가', '유형자산의감소', '(투자활동으로 인한 현금유출액)', '투자활동으로 인한 현금유입액',\n",
       "       '자본금', '관계기업 등 지분관련 투자자산', '영업손익', '이자보상배율'],\n",
       "      dtype='object')"
      ]
     },
     "execution_count": 3,
     "metadata": {},
     "output_type": "execute_result"
    }
   ],
   "source": [
    "# 데이터 로드\n",
    "df = pd.read_csv(\n",
    "    '../data/3_이자보상배율계산.csv', \n",
    "    dtype = {'거래소코드' : 'object'}\n",
    ")\n",
    "df.columns"
   ]
  },
  {
   "cell_type": "code",
   "execution_count": 4,
   "id": "bcf07252-7075-4389-876b-86b9536277d0",
   "metadata": {},
   "outputs": [
    {
     "name": "stderr",
     "output_type": "stream",
     "text": [
      "100%|█████████████████████████████████████| 22245/22245 [45:02<00:00,  8.23it/s]\n"
     ]
    }
   ],
   "source": [
    "# 시가총액 다운로드\n",
    "\n",
    "from pykrx import stock\n",
    "\n",
    "# 연말 시가총액, 상장주식수 가져오기\n",
    "for i in tqdm(df.index):\n",
    "    year = df.at[i, '결산년도']\n",
    "    ticker = df.at[i, '거래소코드']\n",
    "    \n",
    "    cap = stock.get_market_cap(\n",
    "        fromdate = f'{year}1201',\n",
    "        todate = f'{year}1231',\n",
    "        ticker = ticker,\n",
    "        freq = 'y'\n",
    "    )\n",
    "    \n",
    "    try:\n",
    "        df.loc[i, ['시가총액', '상장주식수']] = cap[['시가총액', '상장주식수']].values\n",
    "    except:\n",
    "        continue"
   ]
  },
  {
   "cell_type": "code",
   "execution_count": 5,
   "id": "5d55566a-4127-4242-b292-7ca4ab6ff7aa",
   "metadata": {},
   "outputs": [
    {
     "data": {
      "text/plain": [
       "시가총액     4271\n",
       "상장주식수    4271\n",
       "dtype: int64"
      ]
     },
     "execution_count": 5,
     "metadata": {},
     "output_type": "execute_result"
    }
   ],
   "source": [
    "df[['시가총액', '상장주식수']].isna().sum()"
   ]
  },
  {
   "cell_type": "code",
   "execution_count": null,
   "id": "86bb32a0-5056-4d69-a3d1-70c1968b2ae3",
   "metadata": {},
   "outputs": [],
   "source": []
  },
  {
   "cell_type": "code",
   "execution_count": 6,
   "id": "361d3f45-1941-49be-be6d-27525b2af194",
   "metadata": {},
   "outputs": [],
   "source": [
    "# 파일로 저장    \n",
    "df.to_csv('../data/3_2_시가총액추가.csv', index=None)"
   ]
  },
  {
   "cell_type": "code",
   "execution_count": null,
   "id": "eee6fe13-bb3d-4c0f-88bd-52ffb470da88",
   "metadata": {},
   "outputs": [],
   "source": []
  }
 ],
 "metadata": {
  "kernelspec": {
   "display_name": "Python 3 (ipykernel)",
   "language": "python",
   "name": "python3"
  },
  "language_info": {
   "codemirror_mode": {
    "name": "ipython",
    "version": 3
   },
   "file_extension": ".py",
   "mimetype": "text/x-python",
   "name": "python",
   "nbconvert_exporter": "python",
   "pygments_lexer": "ipython3",
   "version": "3.12.1"
  }
 },
 "nbformat": 4,
 "nbformat_minor": 5
}
