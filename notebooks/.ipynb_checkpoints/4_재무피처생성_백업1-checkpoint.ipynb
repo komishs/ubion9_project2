{
 "cells": [
  {
   "cell_type": "code",
   "execution_count": null,
   "metadata": {},
   "outputs": [],
   "source": [
    "from tqdm import tqdm\n",
    "import warnings\n",
    "warnings.filterwarnings('ignore')\n",
    "\n",
    "import numpy as np\n",
    "\n",
    "import pandas as pd\n",
    "# 모든 행을 출력하도록 설정\n",
    "pd.set_option('display.max_rows', None)\n",
    "pd.set_option('display.max_columns', None)\n",
    "\n",
    "# 기본값으로 설정 (처음 5개와 마지막 5개 행만 출력)\n",
    "pd.reset_option('display.max_rows')\n",
    "\n",
    "# 출력 포맷 설정 (소수점 4자리까지)\n",
    "pd.options.display.float_format = '{:.4f}'.format\n",
    "\n",
    "import platform\n",
    "import seaborn as sns\n",
    "\n",
    "import matplotlib.pyplot as plt\n",
    "\n",
    "# 운영 체제 확인\n",
    "if platform.system() == 'Darwin':  # Mac\n",
    "    print('apple gothic')\n",
    "    font_name = 'AppleGothic'\n",
    "elif platform.system() == 'Windows':  # Windows\n",
    "    font_name = 'NanumGothic'\n",
    "else:\n",
    "    font_name = None\n",
    "\n",
    "# 한글 폰트 설정\n",
    "if font_name:\n",
    "    plt.rcParams['font.family'] = font_name\n",
    "\n",
    "# 마이너스 부호 설정\n",
    "plt.rcParams['axes.unicode_minus'] = False"
   ]
  },
  {
   "cell_type": "markdown",
   "metadata": {},
   "source": [
    "## 데이터 로드"
   ]
  },
  {
   "cell_type": "code",
   "execution_count": null,
   "metadata": {},
   "outputs": [],
   "source": [
    "df = pd.read_csv(\n",
    "    '../data/3_이자보상배율계산.csv', \n",
    "    # '../data/3_2_시가총액추가.csv', \n",
    "    dtype = {'거래소코드' : 'object'}\n",
    ")\n",
    "df.columns"
   ]
  },
  {
   "cell_type": "markdown",
   "metadata": {},
   "source": [
    "## 재무변수 생성"
   ]
  },
  {
   "cell_type": "code",
   "execution_count": null,
   "metadata": {},
   "outputs": [],
   "source": [
    "df['년도차'] = df.groupby('거래소코드')['결산년도'].diff()"
   ]
  },
  {
   "cell_type": "markdown",
   "metadata": {},
   "source": [
    "### (1) 성장성 지표"
   ]
  },
  {
   "cell_type": "code",
   "execution_count": null,
   "metadata": {},
   "outputs": [],
   "source": [
    "cols_growth = ['자산', '유형자산', '유동자산', '재고자산', '자본', '매출액']"
   ]
  },
  {
   "cell_type": "code",
   "execution_count": null,
   "metadata": {},
   "outputs": [],
   "source": [
    "df[cols_growth].describe()"
   ]
  },
  {
   "cell_type": "code",
   "execution_count": null,
   "metadata": {},
   "outputs": [],
   "source": [
    "# 매출액=0인 데이터 확인\n",
    "df[df['매출액']==0][['회사명', '거래소코드']].drop_duplicates()"
   ]
  },
  {
   "cell_type": "code",
   "execution_count": null,
   "metadata": {},
   "outputs": [],
   "source": [
    "# 매출액=0인 데이터 확인\n",
    "# -> (바이오 업종)\n",
    "\n",
    "# 초반 매출액 0, 최근 매출액 0 아닌 거래소코드 : 115180, 284620, 299660, 307280\n",
    "# -> 매출액이 0 데이터 제거\n",
    "\n",
    "# 특정 시점 매출액 0인 거래소코드 : 208340\n",
    "# -> 바이오 업종 특성상 매출액=0\n",
    "\n",
    "# 전체기간 매출액이 0인 거래소코드 : 235980, 308080, 323990, 950220\n",
    "# -> 기술특례로 상장한 케이스 : 제거\n",
    "\n",
    "df[df['거래소코드']=='208340'][['회사명', '거래소코드', '회계년도', '매출액']]"
   ]
  },
  {
   "cell_type": "code",
   "execution_count": null,
   "metadata": {},
   "outputs": [],
   "source": [
    "# 매출액 0이 포함된 거래소코드 제거\n",
    "\n",
    "tickers = df[df['매출액']==0]['거래소코드'].unique()\n",
    "df.drop(index = df[df['거래소코드'].isin(tickers)].index, inplace=True)"
   ]
  },
  {
   "cell_type": "code",
   "execution_count": null,
   "metadata": {},
   "outputs": [],
   "source": [
    "df[cols_growth].describe()"
   ]
  },
  {
   "cell_type": "code",
   "execution_count": null,
   "metadata": {},
   "outputs": [],
   "source": [
    "for col in cols_growth:\n",
    "    # 기업별 전기(t-1년도) 데이터 -> {컬럼명}_전기 생성\n",
    "    df[f'{col}_전기'] = df.groupby('거래소코드')[col].shift(1)\n",
    "\n",
    "    # 보고서가 연속적이지 않은 경우, 결측치 처리\n",
    "    df.loc[df['년도차']>1, f'{col}_전기'] = np.nan\n",
    "    \n",
    "    # 성장성지표 계산\n",
    "    # 증가율 = (전기/당기)*100 - 100\n",
    "    df[f'{col}증가율'] = (df[col]/df[f'{col}_전기'])*100 - 100"
   ]
  },
  {
   "cell_type": "code",
   "execution_count": null,
   "metadata": {},
   "outputs": [],
   "source": [
    "df[[f'{col}증가율' for col in cols_growth]].describe()"
   ]
  },
  {
   "cell_type": "code",
   "execution_count": null,
   "metadata": {},
   "outputs": [],
   "source": [
    "# 유형자산증가율이 inf인 경우\n",
    "# 전기말 유형자산이 0인 경우\n",
    "df.loc[(df['유형자산증가율']==np.inf)][['회사명', '거래소코드', '회계년도', '유형자산', '유형자산_전기', '유형자산증가율']]"
   ]
  },
  {
   "cell_type": "code",
   "execution_count": null,
   "metadata": {},
   "outputs": [],
   "source": [
    "# 유형자산증가율이 inf인 경우 --> 유형자산증가율=0으로 대체\n",
    "df.loc[(df['유형자산증가율']==np.inf), '유형자산증가율'] = 0"
   ]
  },
  {
   "cell_type": "code",
   "execution_count": null,
   "metadata": {},
   "outputs": [],
   "source": [
    "# 재고자산증가율이 inf인 경우\n",
    "# 전기말 재고자산이 0인 경우\n",
    "df.loc[(df['재고자산증가율']==np.inf)][['회사명', '거래소코드', '회계년도', '재고자산', '재고자산_전기', '재고자산증가율']]"
   ]
  },
  {
   "cell_type": "code",
   "execution_count": null,
   "metadata": {},
   "outputs": [],
   "source": [
    "# 재고자산증가율이 inf인 경우 --> 재고자산증가율=0으로 대체\n",
    "df.loc[(df['재고자산증가율']==np.inf), '재고자산증가율'] = 0"
   ]
  },
  {
   "cell_type": "code",
   "execution_count": null,
   "metadata": {},
   "outputs": [],
   "source": [
    "# 자본 : 전기 및 당기 모두 음수(-)인 경우\n",
    "# 자본증가율이 양수(+)로 나올 수 있음\n",
    "# 자본증가율=0 처리\n",
    "\n",
    "# 전기나 당기 자본이 하나라도 음수(-)인 경우\n",
    "# -> 자본증가율=0 처리\n",
    "\n",
    "df.loc[(df['자본'] < 0) | (df['자본_전기'] < 0), ['회사명', '거래소코드', '회계년도', '자본', '자본_전기', '자본증가율']]"
   ]
  },
  {
   "cell_type": "code",
   "execution_count": null,
   "metadata": {},
   "outputs": [],
   "source": [
    "# 자본증가율=0 처리\n",
    "\n",
    "df.loc[(df['자본'] < 0) | (df['자본_전기'] < 0), '자본증가율'] = 0"
   ]
  },
  {
   "cell_type": "code",
   "execution_count": null,
   "metadata": {},
   "outputs": [],
   "source": [
    "# 성장성 지표 요약통계량 확인\n",
    "\n",
    "df[[f'{col}증가율' for col in cols_growth]].describe()"
   ]
  },
  {
   "cell_type": "markdown",
   "metadata": {},
   "source": [
    "### (2) 수익성 지표"
   ]
  },
  {
   "cell_type": "code",
   "execution_count": null,
   "metadata": {},
   "outputs": [],
   "source": [
    "# 전기, 당기 평균 계산\n",
    "cols_mean = ['자산', '유형자산', '무형자산', '건설중인자산', '토지', '자본']"
   ]
  },
  {
   "cell_type": "code",
   "execution_count": null,
   "metadata": {},
   "outputs": [],
   "source": [
    "df[cols_mean].describe()"
   ]
  },
  {
   "cell_type": "code",
   "execution_count": null,
   "metadata": {},
   "outputs": [],
   "source": [
    "# 건설중인자산이 음수(-)인 경우 : 건설이 취소된 케이스\n",
    "\n",
    "df[df['건설중인자산']<0][['회사명', '거래소코드', '회계년도', '건설중인자산']]"
   ]
  },
  {
   "cell_type": "code",
   "execution_count": null,
   "metadata": {},
   "outputs": [],
   "source": [
    "# 건설중인자산이 음수(-)인 경우\n",
    "# -> 0으로 대체\n",
    "\n",
    "df.loc[df['건설중인자산']<0, '건설중인자산'] = 0"
   ]
  },
  {
   "cell_type": "code",
   "execution_count": null,
   "metadata": {},
   "outputs": [],
   "source": [
    "df[cols_mean].describe()"
   ]
  },
  {
   "cell_type": "code",
   "execution_count": null,
   "metadata": {},
   "outputs": [],
   "source": [
    "for col in cols_mean:\n",
    "    # 기업별 전기(t-1년도) 데이터 -> {컬럼명}_전기 생성\n",
    "    # 전기 데이터가 결측치인 경우, 당기 데이터로 대체\n",
    "    ## -> (전기, 당기) 평균 = (당기)\n",
    "    df[f'{col}_전기'] = df.groupby('거래소코드')[col].shift(1).fillna(df[col])\n",
    "\n",
    "    # 보고서가 연속적이지 않은 경우, 당기 데이터로 대체\n",
    "    df.loc[df['년도차']>1, f'{col}_전기'] = df.loc[df['년도차']>1, col]\n",
    "    \n",
    "    # (전기, 당기) 평균 계산\n",
    "    df[f'{col}평균'] = (df[col] + df[f'{col}_전기'])/2"
   ]
  },
  {
   "cell_type": "code",
   "execution_count": null,
   "metadata": {},
   "outputs": [],
   "source": [
    "df[[f'{col}평균' for col in cols_mean]].describe()"
   ]
  },
  {
   "cell_type": "code",
   "execution_count": null,
   "metadata": {},
   "outputs": [],
   "source": [
    "df[['매출액', '감가상각비', '배당금지급(-)']].describe()"
   ]
  },
  {
   "cell_type": "code",
   "execution_count": null,
   "metadata": {},
   "outputs": [],
   "source": [
    "# 감가상각비가 음수(-)인 경우\n",
    "# 회계상 손실이 실질 가치보다 높아서 보정해주기 위한 값\n",
    "\n",
    "df[df['감가상각비']<0][['회사명', '거래소코드', '회계년도', '감가상각비', '유형자산']]"
   ]
  },
  {
   "cell_type": "code",
   "execution_count": null,
   "metadata": {},
   "outputs": [],
   "source": [
    "# 감가상각비가 음수(-)인 경우\n",
    "# -> 0으로 대체\n",
    "\n",
    "df.loc[df['감가상각비']<0, '감가상각비'] = 0\n",
    "df[df['감가상각비']<0][['회사명', '거래소코드', '회계년도', '감가상각비', '유형자산']]"
   ]
  },
  {
   "cell_type": "code",
   "execution_count": null,
   "metadata": {},
   "outputs": [],
   "source": [
    "# 배당금지급(-)이 양수(+)인 경우\n",
    "\n",
    "df[df['배당금지급(-)']>0][['회사명', '거래소코드', '회계년도', '배당금지급(-)']]"
   ]
  },
  {
   "cell_type": "code",
   "execution_count": null,
   "metadata": {},
   "outputs": [],
   "source": [
    "# 자본변동표 확인 후 수정\n",
    "\n",
    "df.loc[2850, '배당금지급(-)'] = -15701814\n",
    "df.loc[[2850], ['회사명', '거래소코드', '회계년도', '배당금지급(-)']]"
   ]
  },
  {
   "cell_type": "code",
   "execution_count": null,
   "metadata": {},
   "outputs": [],
   "source": [
    "df[['매출액', '감가상각비', '배당금지급(-)']].describe()"
   ]
  },
  {
   "cell_type": "code",
   "execution_count": null,
   "metadata": {},
   "outputs": [],
   "source": []
  },
  {
   "cell_type": "code",
   "execution_count": null,
   "metadata": {},
   "outputs": [],
   "source": [
    "# 수익성 지표 계산\n",
    "\n",
    "df['총자산회전율']=df['매출액']/df['자산평균']\n",
    "df['감가상각율'] = df['감가상각비'] / (\n",
    "    (df['유형자산평균'] + df['무형자산평균']) - ((df['건설중인자산평균']+df['토지평균'])/2) + df['감가상각비']\n",
    ") * 100\n",
    "\n",
    "# 자본평균 -> 납입자본금평균\n",
    "# 배당률 = 주당배당금 / 주당액면가 ~ (10%~20%)\n",
    "# 배당률 X\n",
    "df['배당률'] = (- df['배당금지급(-)'] / df['자본평균'])*100\n",
    "\n",
    "# TODO : 시가총액 구하기\n",
    "# 배당수익률 = 주당배당금 / 주가 ~ (1.6%~2%)\n",
    "#         = - (배당금지급(-) / 시가총액)\n",
    "df['배당수익률'] = (- df['배당금지급(-)']) / df['시가총액']\n"
   ]
  },
  {
   "cell_type": "code",
   "execution_count": null,
   "metadata": {},
   "outputs": [],
   "source": [
    "df[['총자산회전율', '감가상각율', '배당률', '배당수익률']].describe()"
   ]
  },
  {
   "cell_type": "code",
   "execution_count": null,
   "metadata": {},
   "outputs": [],
   "source": [
    "# 감가상각율이 음수(-)인 경우,\n",
    "\n",
    "df.loc[df['감가상각율']<0, [\n",
    "    '회사명', '거래소코드', '회계년도', '감가상각율',\n",
    "    '감가상각비',  '유형자산평균', '무형자산평균', '건설중인자산평균', '토지평균'\n",
    "]]"
   ]
  },
  {
   "cell_type": "code",
   "execution_count": null,
   "metadata": {},
   "outputs": [],
   "source": [
    "# 재무제표 확인 후 건설중인자산 및 토지 데이터 수정\n",
    "\n",
    "df.loc[df['거래소코드']=='900110'][['회계년도', '건설중인자산', '토지']]"
   ]
  },
  {
   "cell_type": "code",
   "execution_count": null,
   "metadata": {},
   "outputs": [],
   "source": [
    "# 재무제표 확인 후 건설중인자산 및 토지 데이터 수정\n",
    "\n",
    "df.loc[(df['거래소코드']=='900110') & (df['회계년도']=='2016/12'), '건설중인자산'] = np.round(36045441 * (80157000/170694000))\n",
    "df.loc[(df['거래소코드']=='900110') & (df['회계년도']=='2017/12'), '건설중인자산'] = np.round(36045441 * (64954000/170694000))\n",
    "df.loc[(df['거래소코드']=='900110'), '토지']=0\n",
    "\n",
    "df.loc[df['거래소코드']=='900110', '건설중인자산_전기'] = df.loc[df['거래소코드']=='900110', '건설중인자산'].shift()\n",
    "df.loc[df['거래소코드']=='900110', '건설중인자산평균'] = (df.loc[df['거래소코드']=='900110', '건설중인자산']+df.loc[df['거래소코드']=='900110', '건설중인자산_전기'])/2\n",
    "\n",
    "df.loc[df['거래소코드']=='900110', '토지_전기'] = df.loc[df['거래소코드']=='900110', '토지'].shift()\n",
    "df.loc[df['거래소코드']=='900110', '토지평균'] = (df.loc[df['거래소코드']=='900110', '토지']+df.loc[df['거래소코드']=='900110', '토지_전기'])/2\n",
    "\n",
    "\n",
    "df.loc[df['거래소코드']=='900110'][['회계년도', '건설중인자산', '건설중인자산_전기', '건설중인자산평균', '토지', '토지_전기', '토지평균']]"
   ]
  },
  {
   "cell_type": "code",
   "execution_count": null,
   "metadata": {},
   "outputs": [],
   "source": [
    "# 데이터 처리 후 수익성 지표 다시 계산\n",
    "\n",
    "df['감가상각율'] = df['감가상각비'] / (\n",
    "    (df['유형자산평균'] + df['무형자산평균']) - ((df['건설중인자산평균']+df['토지평균'])/2) + df['감가상각비']\n",
    ") * 100"
   ]
  },
  {
   "cell_type": "code",
   "execution_count": null,
   "metadata": {},
   "outputs": [],
   "source": [
    "# 배당율이 음수(-)인 경우\n",
    "# 자본잠식(자본<0)이므로 배당율=0으로 처리\n",
    "\n",
    "df.loc[df['배당률']<-0, '배당률'] = 0"
   ]
  },
  {
   "cell_type": "code",
   "execution_count": null,
   "metadata": {},
   "outputs": [],
   "source": [
    "df[['총자산회전율', '감가상각율', '배당률', '배당수익률']].describe()"
   ]
  },
  {
   "cell_type": "markdown",
   "metadata": {},
   "source": [
    "#### [TODO] (~ing)"
   ]
  },
  {
   "cell_type": "code",
   "execution_count": null,
   "metadata": {},
   "outputs": [],
   "source": [
    "# 외환 관련 컬럼 : 금융자산\n",
    "\n",
    "df[[\n",
    "    '급여', '퇴직급여', \n",
    "    '외환차익1', '외환차익2', '외화환산이익1', '외화환산이익2', '외환차손1', '외환차손2', '외화환산손실1', '외환환산손실2',\n",
    "    '판매비와 관리비(물류원가 등 포함)', '매출원가', '매출액', '감가상각비', '대손상각비', '개발비상각', '기타무형자산상각비',\n",
    "    '상품매출원가', '제품매출원가'\n",
    "]].describe()"
   ]
  },
  {
   "cell_type": "code",
   "execution_count": null,
   "metadata": {},
   "outputs": [],
   "source": [
    "df[(df['대손상각비']<0) & (df['판매비와 관리비(물류원가 등 포함)'] < 0)][\n",
    "    ['회사명', '거래소코드', '회계년도', '판매비와 관리비(물류원가 등 포함)', '대손상각비']\n",
    "]"
   ]
  },
  {
   "cell_type": "code",
   "execution_count": null,
   "metadata": {},
   "outputs": [],
   "source": [
    "# 판매비와 관리비가 음수(-)인 경우\n",
    "df[df['판매비와 관리비(물류원가 등 포함)']<0][['회사명', '거래소코드', '회계년도', '판매비와 관리비(물류원가 등 포함)']]"
   ]
  },
  {
   "cell_type": "code",
   "execution_count": null,
   "metadata": {},
   "outputs": [],
   "source": [
    "# 재무제표 확인 후 수정\n",
    "\n",
    "df.loc[9726, '판매비와 관리비(물류원가 등 포함)'] = 63423309 + 67379100\n",
    "\n",
    "# 대손상각비 환입으로 음수(-)인데, 보수적으로 보기 위해 대손상각비를 0원 처리함\n",
    "df.loc[[9939, 10267, 16513],  '판매비와 관리비(물류원가 등 포함)'] += df.loc[[9939, 10267, 16513],  '대손상각비']"
   ]
  },
  {
   "cell_type": "code",
   "execution_count": null,
   "metadata": {},
   "outputs": [],
   "source": [
    "# 대손상각비가 음수(-)인 경우\n",
    "# 과거 손실로 기록했으나, 실질적으로 손실 되지 않은 거\n",
    "# 환입받음\n",
    "# -> 0으로 처리\n",
    "\n",
    "df[df['대손상각비']<0][['회사명', '거래소코드', '회계년도', '대손상각비']]"
   ]
  },
  {
   "cell_type": "code",
   "execution_count": null,
   "metadata": {},
   "outputs": [],
   "source": [
    "# 대손상각비가 음수(-)인 경우\n",
    "# -> 0으로 처리\n",
    "\n",
    "df.loc[df['대손상각비']<0, '대손상각비']=0"
   ]
  },
  {
   "cell_type": "code",
   "execution_count": null,
   "metadata": {},
   "outputs": [],
   "source": [
    "df[['매출원가']].describe()"
   ]
  },
  {
   "cell_type": "code",
   "execution_count": null,
   "metadata": {},
   "outputs": [],
   "source": [
    "# 매출원가=0 일 수 있음 \n",
    "# -> 서비스업 등\n",
    "# 근데 유스홀딩스 같은 지배운영하는 회사는 매출원가 =0 \n",
    "# -> 기타(영업)비용으로 대체\n",
    "\n",
    "df[(df['매출원가']==0) & (df['영업손익']<0)][['회사명', '거래소코드', '회계년도', '매출액', '매출원가', '판매비와 관리비(물류원가 등 포함)', '영업손익']]"
   ]
  },
  {
   "cell_type": "code",
   "execution_count": null,
   "metadata": {},
   "outputs": [],
   "source": [
    "# 매출원가=0 일 수 있음 \n",
    "# -> 기타(영업)비용으로 대체\n",
    "\n",
    "df.loc[df['매출원가']==0, '매출원가'] = df.loc[df['매출원가']==0, '기타(영업)비용']"
   ]
  },
  {
   "cell_type": "code",
   "execution_count": null,
   "metadata": {},
   "outputs": [],
   "source": [
    "df['매출원가'].describe()"
   ]
  },
  {
   "cell_type": "code",
   "execution_count": null,
   "metadata": {},
   "outputs": [],
   "source": [
    "df[df['매출원가']==0][['회사명', '거래소코드', '회계년도', '매출액', '매출원가', '기타(영업)비용', '판매비와 관리비(물류원가 등 포함)', '영업손익']]"
   ]
  },
  {
   "cell_type": "code",
   "execution_count": null,
   "metadata": {},
   "outputs": [],
   "source": [
    "# 주주환원율이 낮으면 부실로 이어질 수 있음 -> 배당성향\n",
    "# 투자자 관점에서는 -> 배당수익률"
   ]
  },
  {
   "cell_type": "code",
   "execution_count": null,
   "metadata": {},
   "outputs": [],
   "source": [
    "'기타(영업)비용' in df.columns"
   ]
  },
  {
   "cell_type": "code",
   "execution_count": null,
   "metadata": {},
   "outputs": [],
   "source": [
    "df.loc[\n",
    "    (df['매출원가']==0) & (np.abs(df['매출원가_차이2']) > 1) ,\n",
    "    ['회사명', '거래소코드', '회계년도', '매출액', '매출원가', '판매비와 관리비(물류원가 등 포함)', '기타(영업)비용', '영업손익', '매출액-판관비-영업손익', '매출원가_차이', '매출액-판관비-영업손익-기타비용', '매출원가_차이2']\n",
    "    # ['회사명', '거래소코드', '회계년도', '매출액', '판매비와 관리비(물류원가 등 포함)', '영업손익', '매출원가', '매출액-판관비-영업손익', '매출원가_차이', '매출액-영업손익']\n",
    "]"
   ]
  },
  {
   "cell_type": "code",
   "execution_count": null,
   "metadata": {},
   "outputs": [],
   "source": []
  },
  {
   "cell_type": "code",
   "execution_count": null,
   "metadata": {},
   "outputs": [],
   "source": [
    "# [TODO] 결측치 및 이상치 확인 후 수정\n",
    "\n",
    "# 급여 = 0\n",
    "# 퇴직급여 < 0"
   ]
  },
  {
   "cell_type": "code",
   "execution_count": null,
   "metadata": {},
   "outputs": [],
   "source": [
    "df[df['기타(영업)비용']<0]['회사명']\n",
    "# "
   ]
  },
  {
   "cell_type": "code",
   "execution_count": null,
   "metadata": {},
   "outputs": [],
   "source": [
    "# 수익성 지표 계산\n",
    "\n",
    "df['순외환손익대비매출액'] = (\n",
    "    df['외환차익1'] + df['외환차익2'] + df['외화환산이익1'] + df['외화환산이익2'] \n",
    "    - df['외환차손1'] - df['외환차손2'] - df['외화환산손실1'] - df['외환환산손실2']\n",
    ") / df['판매비와 관리비(물류원가 등 포함)']\n",
    "#위 iloc은 외환관련 이익 - 손해 전부임. \n",
    "\n",
    "# 지주사 등 -> 매출원가=0\n",
    "# -> 매출원가대비매출액 = 0 : 고평가될 수 있음\n",
    "# + 기타비용\n",
    "df['매출원가대비매출액'] = (df['매출원가']) / df['매출액'] * 100\n",
    "\n",
    "df['당기총제조비용']= df['급여'] + df['퇴직급여'] + (\n",
    "    df['판매비와 관리비(물류원가 등 포함)'] - df['감가상각비'] - df['대손상각비']\n",
    "    - df['개발비상각'] - df['기타무형자산상각비']\n",
    ")\n",
    "df['재고조정중의고정비'] = (df['매출원가'] -df['당기총제조비용']) * (\n",
    "    ((df['급여']+df['퇴직급여'])/2) / df['당기총제조비용']\n",
    ")\n",
    "\n",
    "df['고정비'] = ((df['급여']+df['퇴직급여'])/2) + df['감가상각비'] + df['대손상각비'] \\\n",
    "    + df['상품매출원가'] + df['제품매출원가'] + df['개발비상각']+df['기타무형자산상각비']\n",
    "df['총비용'] = df['판매비와 관리비(물류원가 등 포함)'] + df['매출원가']\n",
    "df['변동비'] = df['총비용'] - df['고정비']\n",
    "\n",
    "df['변동비대비매출액'] = df['변동비']/df['매출액']*100\n",
    "df['고정비대비매출액'] = df['고정비']/df['매출액'] * 100\n",
    "df['인건비대비매출액'] = (df['급여']+df['퇴직급여'])/df['매출액'] *100\n",
    "\n",
    "# 영업총비용 = 당기총제조비용 + 판관비인데, TS에선 판관비 안에 당기총제조비용이 포함됨. \n",
    "df['인건비대비영업총비용']=(df['급여']+df['퇴직급여'])/df['판매비와 관리비(물류원가 등 포함)']"
   ]
  },
  {
   "cell_type": "code",
   "execution_count": null,
   "metadata": {},
   "outputs": [],
   "source": [
    "# 수익성 지표 계산\n",
    "\n",
    "df['사내유보'] = df['미처분이익잉여금(결손금)'] + df['기타임의적립금'] - (df['(연차배당)'] + df['(중간배당)'])\n",
    "df['사내유보금']= df['자본잉여금'] + df['이익잉여금(결손금)']\n",
    "df['사내유보율'] = df['사내유보금'] / (df['미처분이익잉여금(결손금)'] + df['기타임의적립금']) * 100"
   ]
  },
  {
   "cell_type": "markdown",
   "metadata": {},
   "source": [
    "### (3) 생산성 지표"
   ]
  },
  {
   "cell_type": "code",
   "execution_count": null,
   "metadata": {},
   "outputs": [],
   "source": [
    "# 백만단위 천단위로 수정\n",
    "df['종업원1인당매출액_ts']=df['종업원1인당 매출액(IFRS)(백만원)']*1000\n",
    "df['종업원1인당부가가치_ts']=df['종업원1인당 부가가치(IFRS)(백만원)']*1000\n",
    "df['종업원1인당인건비_ts']=df['종업원1인당 인건비(IFRS)(백만원)']*1000\n",
    "\n",
    "# 종업원수 컬럼명 수정\n",
    "df.rename(columns = {'종업원수(IFRS)' : '종업원수'}, inplace=True)"
   ]
  },
  {
   "cell_type": "code",
   "execution_count": null,
   "metadata": {},
   "outputs": [],
   "source": [
    "# [TODO] 이상치 확인 후 수정\n",
    "\n",
    "# 종업원수 = 0\n",
    "df[['종업원수']].describe()"
   ]
  },
  {
   "cell_type": "code",
   "execution_count": null,
   "metadata": {},
   "outputs": [],
   "source": [
    "# 생산성 지표 계산\n",
    "df['산출액'] = df['매출액'] + df['판매비와 관리비'] - df['매출원가']\n",
    "df['1인당매출액'] = df['매출액'] / df['종업원수']\n",
    "df['1인당인건비'] = df['급여'] / df['종업원수']"
   ]
  },
  {
   "cell_type": "markdown",
   "metadata": {},
   "source": [
    "### (4) 파생변수 생성"
   ]
  },
  {
   "cell_type": "code",
   "execution_count": null,
   "metadata": {},
   "outputs": [],
   "source": [
    "# 전기, 당기 평균 계산\n",
    "cols_mean = ['재고자산', '비유동자산']\n",
    "\n",
    "for col in cols_mean:\n",
    "    # 기업별 전기(t-1년도) 데이터 -> {컬럼명}_전기 생성\n",
    "    # 전기 데이터가 결측치인 경우, 당기 데이터로 대체\n",
    "    ## -> (전기, 당기) 평균 = (당기)\n",
    "    df[f'{col}_전기'] = df.groupby('거래소코드')[col].shift(1).fillna(df[col])\n",
    "\n",
    "    # 보고서가 연속적이지 않은 경우, 당기 데이터로 대체\n",
    "    df.loc[df['년도차']>1, f'{col}_전기'] = df.loc[df['년도차']>1, col]\n",
    "    \n",
    "    # (전기, 당기) 평균 계산\n",
    "    df[f'{col}평균'] = (df[col] + df[f'{col}_전기'])/2"
   ]
  },
  {
   "cell_type": "code",
   "execution_count": null,
   "metadata": {},
   "outputs": [],
   "source": [
    "# 파생변수 생성\n",
    "\n",
    "df['매출채권 및 기타유동채권평균'] = (df['매출채권 및 기타유동채권']+df['매출채권 및 기타유동채권'])/2\n",
    "df['장기매출채권 및 기타비유동채권평균'] = (df['장기매출채권 및 기타비유동채권']+df['장기매출채권 및 기타비유동채권'])/2\n",
    "\n",
    "df['매입채무 및 기타유동채무평균'] = (df['매입채무 및 기타유동채무']+df['매입채무 및 기타유동채무'])/2\n",
    "df['장기매입채무 및 기타비유동채무평균'] = (df['장기매입채무 및 기타비유동채무']+df['장기매입채무 및 기타비유동채무'])/2\n",
    "\n",
    "df['주주이익(버핏)'] = df['영업활동으로 인한 현금흐름'] + df['감가상각비'] + df['개발비상각'] + df['기타무형자산상각비'] \\\n",
    "                    - df['유형자산의 증가'] - df['무형자산의 증가']\n",
    "df['순운전자본'] = df['매출채권 및 기타유동채권평균'] + df['장기매출채권 및 기타비유동채권평균']+ df['재고자산평균'] \\\n",
    "                    - df['매입채무 및 기타유동채무평균'] - df['장기매입채무 및 기타비유동채무평균']\n",
    "df['유무형자산'] = df['무형자산평균'] + df['유형자산평균'] \n",
    "df['영업현금흐름대비투하자본'] = df['영업활동으로 인한 현금흐름'] / (df['순운전자본'] + df['유무형자산'])\n",
    "df['ROTCE현금흐름대체'] = df['영업활동으로 인한 현금흐름'] / (df['순운전자본'] +df['비유동자산평균'])\n",
    "df['유형자산대비현금흐름'] = df['영업활동으로 인한 현금흐름'] / df['유형자산평균']\n",
    "df['유무형자산대비현금흐름'] = df['영업활동으로 인한 현금흐름'] / df['유무형자산']\n",
    "df['매출대비고정자산'] = df['영업활동으로 인한 현금흐름'] / df['비유동자산평균']"
   ]
  },
  {
   "cell_type": "markdown",
   "metadata": {},
   "source": [
    "### (5) 자산_자본관계비율"
   ]
  },
  {
   "cell_type": "code",
   "execution_count": null,
   "metadata": {},
   "outputs": [],
   "source": [
    "# 전기, 당기 평균 계산\n",
    "cols_mean = ['단기차입금', '장기차입금']\n",
    "\n",
    "for col in cols_mean:\n",
    "    # 기업별 전기(t-1년도) 데이터 -> {컬럼명}_전기 생성\n",
    "    # 전기 데이터가 결측치인 경우, 당기 데이터로 대체\n",
    "    ## -> (전기, 당기) 평균 = (당기)\n",
    "    df[f'{col}_전기'] = df.groupby('거래소코드')[col].shift(1).fillna(df[col])\n",
    "\n",
    "    # 보고서가 연속적이지 않은 경우, 당기 데이터로 대체\n",
    "    df.loc[df['년도차']>1, f'{col}_전기'] = df.loc[df['년도차']>1, col]\n",
    "    \n",
    "    # (전기, 당기) 평균 계산\n",
    "    df[f'{col}평균'] = (df[col] + df[f'{col}_전기'])/2"
   ]
  },
  {
   "cell_type": "code",
   "execution_count": null,
   "metadata": {},
   "outputs": [],
   "source": [
    "# 자산_자본관계비율 계산\n",
    "\n",
    "df['자기자본비율'] = df['자본']/df['자산'] * 100\n",
    "df['유동비율'] = df['유동자산']/df['유동부채'] * 100\n",
    "df['당좌비율'] = (df['현금및현금성자산'] + df['유동금융자산']) / df['유동부채']\n",
    "\n",
    "#당좌비율 보수적으로 보기 위해 매출채권 및 기타유동채권 제외시킴. \n",
    "# 당좌비율이 낮은건 보수적이지만, 높은건 안됨. \n",
    "df['현금비율'] = df['현금및현금성자산'] / df['유동부채'] * 100 \n",
    "df['비유동비율'] = df['비유동자산'] / df['자본'] * 100\n",
    "df['비유동장기적합률'] = df['비유동자산']/(df['자본'] + df['비유동부채']) *100\n",
    "df['부채비율'] = (df['유동부채'] + df['비유동부채']) / df['자본'] *100\n",
    "df['유동부채비율'] = df['유동부채'] /df['자본'] * 100\n",
    "df['비유동부채비율'] = df['비유동부채'] / df['자본']\n",
    "df['차입금의존도'] = (df['장기차입금'] + df['단기차입금'] + df['사채'] + df['유동성장기부채']) / df['자산'] * 100\n",
    "df['매출채권대비매입채무'] = \\\n",
    "    (df['매출채권 및 기타유동채권'] + df['장기매출채권 및 기타비유동채권']) / (df['매입채무 및 기타유동채무'] + df['장기매입채무 및 기타비유동채무'])\n",
    "df['순운전자본대비총자본'] = (df['유동자산'] - df['유동부채']) / df['자산'] * 100\n",
    "df['차입금대비매출액'] = (df['단기차입금평균'] + df['장기차입금평균']) / df['매출액'] * 100"
   ]
  },
  {
   "cell_type": "code",
   "execution_count": null,
   "metadata": {},
   "outputs": [],
   "source": []
  },
  {
   "cell_type": "markdown",
   "metadata": {},
   "source": [
    "### (6) 현금흐름"
   ]
  },
  {
   "cell_type": "code",
   "execution_count": null,
   "metadata": {},
   "outputs": [],
   "source": [
    "#  feature : 현금흐름\n",
    "\n",
    "df['영업활동현금흐름 대 총자산'] = df['영업활동현금흐름'] / df['자산'] * 100\n",
    "df['영업활동현금흐름 대 매출액'] = df['영업활동현금흐름'] / df['매출액'] * 100 \n",
    "df['투자안정성비율'] = df['영업활동현금흐름'] / (df['유형자산의증가'] - df['유형자산의감소']) * 100\n",
    "df['영업활동현금흐름 대 투자활동현금지출'] = \\\n",
    "    df['영업활동현금흐름'] / (df['(투자활동으로 인한 현금유출액)'] - df['투자활동으로 인한 현금유입액']) *100 "
   ]
  },
  {
   "cell_type": "markdown",
   "metadata": {},
   "source": [
    "### (7) 자산자본회전율"
   ]
  },
  {
   "cell_type": "code",
   "execution_count": null,
   "metadata": {},
   "outputs": [],
   "source": [
    "# feature : 자산자본회전율\n",
    "df['경영자산회전율분모'] =  df['자산'] - (df['건설중인자산']+df['관계기업 등 지분관련 투자자산'])\n",
    "df['매출채권'] = df['장기매출채권 및 기타비유동채권'] + df['매출채권 및 기타유동채권']\n",
    "df['매입채무'] = df['장기매입채무 및 기타비유동채무'] +df['매입채무 및 기타유동채무']"
   ]
  },
  {
   "cell_type": "markdown",
   "metadata": {},
   "source": [
    "### (8) 자산자본관계비율"
   ]
  },
  {
   "cell_type": "code",
   "execution_count": null,
   "metadata": {},
   "outputs": [],
   "source": [
    "# Feature : 자산자본관계비율\n",
    "df['당좌자산'] = df['현금및현금성자산'] + df['유동금융자산']\n",
    "\n",
    "df['차입금'] = df['장기차입금'] +df['단기차입금']\n",
    "\n",
    "df['자기자본비율'] = df['자본']/df['자산']*100  \n",
    "df['유동비율'] = df['유동자산']/df['유동부채']*100\n",
    "df['당좌비율'] = df['당좌자산']/df['유동부채']*100\n",
    "df['현금비율'] = df['현금및현금성자산']/df['유동부채']*100\n",
    "df['비유동비율'] = df['비유동자산']/df['자본']*100\n",
    "\n",
    "df['비유동장기적합률'] = df['비유동자산']/(df['자본']+df['비유동부채'])*100\n",
    "df['부채비율'] = (df['유동부채']+df['비유동부채'])/df['자본']*100\n",
    "df['유동부채비율'] = df['유동부채']/df['자본']*100\n",
    "df['비유동부채비율'] = df['비유동부채']/df['자본']*100\n",
    "df['차입금의존도'] = (df['차입금']+df['사채']+df['유동성장기부채'])/df['자산']*100 \n",
    "\n",
    "df['매출채권 대 매입채무'] = df['매출채권']/df['매입채무']*100\n",
    "df['순운전자본 대 총자본'] = (df['유동자산']-df['유동부채'])/df['자산']*100 "
   ]
  },
  {
   "cell_type": "markdown",
   "metadata": {},
   "source": [
    "### (7)~(9)"
   ]
  },
  {
   "cell_type": "code",
   "execution_count": null,
   "metadata": {},
   "outputs": [],
   "source": [
    "for col in ['경영자산회전율분모', '매출채권', '매입채무', '차입금', '부채', '자본금']:\n",
    "    # 기업별 전기(t-1년도) 데이터 -> {컬럼명}_전기 생성\n",
    "    df[f'{col}_전기'] = df.groupby('거래소코드')[col].shift(1)\n",
    "\n",
    "    # 보고서가 연속적이지 않은 경우, 결측치 처리\n",
    "    df.loc[df['년도차']>1, f'{col}_전기'] = np.nan"
   ]
  },
  {
   "cell_type": "code",
   "execution_count": null,
   "metadata": {},
   "outputs": [],
   "source": [
    "#  feature : 현금흐름\n",
    "df['영업활동현금흐름 대 총부채'] = (df['영업활동현금흐름'] / (( df['부채'] + df['부채_전기'] ) / 2)) * 100\n",
    "\n",
    "# feature : 자산자본회전율\n",
    "df['총자산회전율'] = (df['매출액'] / ((df['자산'] + df['자산_전기']) / 2))\n",
    "df['자기자본회전율'] = (df['매출액'] / ((df['자본'] + df['자본_전기']) / 2))\n",
    "\n",
    "df['자본금회전율'] = (df['매출액'] / ((df['자본금'] + df['자본금_전기']) / 2))\n",
    "df['경영자산회전율'] = (df['매출액'] / ((df['경영자산회전율분모'] + df['경영자산회전율분모_전기']) / 2))\n",
    "\n",
    "df['비유동자산회전율'] = (df['매출액'] / ((df['비유동자산'] + df['비유동자산_전기']) / 2))\n",
    "df['유형자산회전율'] = (df['매출액'] / ((df['유형자산'] + df['유형자산_전기']) / 2))\n",
    "df['재고자산회전율'] = (df['매출액'] / ((df['재고자산'] + df['재고자산_전기']) / 2))\n",
    "    \n",
    "df['매출채권회전율'] = (df['매출액'] / ((df['매출채권'] + df['매출채권_전기']) / 2))\n",
    "df['매입채무회전율'] = (df['매출액'] / ((df['매입채무'] + df['매입채무_전기']) / 2))\n",
    "    \n",
    "# Feature : 자산자본관계비율\n",
    "df['차입금 대 매출액'] = (((df['차입금']+df['차입금_전기'])/2)/df['매출액']) * 100"
   ]
  },
  {
   "cell_type": "code",
   "execution_count": null,
   "metadata": {},
   "outputs": [],
   "source": [
    "df.shape"
   ]
  },
  {
   "cell_type": "code",
   "execution_count": null,
   "metadata": {},
   "outputs": [],
   "source": [
    "df.to_csv('../data/4_재무피처생성.csv', index=None)"
   ]
  }
 ],
 "metadata": {
  "kernelspec": {
   "display_name": "Python 3 (ipykernel)",
   "language": "python",
   "name": "python3"
  },
  "language_info": {
   "codemirror_mode": {
    "name": "ipython",
    "version": 3
   },
   "file_extension": ".py",
   "mimetype": "text/x-python",
   "name": "python",
   "nbconvert_exporter": "python",
   "pygments_lexer": "ipython3",
   "version": "3.12.1"
  }
 },
 "nbformat": 4,
 "nbformat_minor": 4
}
