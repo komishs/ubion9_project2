{
 "cells": [
  {
   "cell_type": "code",
   "execution_count": 1,
   "metadata": {},
   "outputs": [
    {
     "name": "stdout",
     "output_type": "stream",
     "text": [
      "apple gothic\n"
     ]
    }
   ],
   "source": [
    "from tqdm import tqdm\n",
    "import warnings\n",
    "warnings.filterwarnings('ignore')\n",
    "\n",
    "import numpy as np\n",
    "\n",
    "import pandas as pd\n",
    "# 모든 행을 출력하도록 설정\n",
    "pd.set_option('display.max_rows', None)\n",
    "pd.set_option('display.max_columns', None)\n",
    "\n",
    "# 기본값으로 설정 (처음 5개와 마지막 5개 행만 출력)\n",
    "pd.reset_option('display.max_rows')\n",
    "\n",
    "# 출력 포맷 설정 (소수점 4자리까지)\n",
    "pd.options.display.float_format = '{:.4f}'.format\n",
    "\n",
    "import platform\n",
    "import seaborn as sns\n",
    "\n",
    "import matplotlib.pyplot as plt\n",
    "\n",
    "# 운영 체제 확인\n",
    "if platform.system() == 'Darwin':  # Mac\n",
    "    print('apple gothic')\n",
    "    font_name = 'AppleGothic'\n",
    "elif platform.system() == 'Windows':  # Windows\n",
    "    font_name = 'NanumGothic'\n",
    "else:\n",
    "    font_name = None\n",
    "\n",
    "# 한글 폰트 설정\n",
    "if font_name:\n",
    "    plt.rcParams['font.family'] = font_name\n",
    "\n",
    "# 마이너스 부호 설정\n",
    "plt.rcParams['axes.unicode_minus'] = False"
   ]
  },
  {
   "cell_type": "markdown",
   "metadata": {},
   "source": [
    "## 데이터 로드"
   ]
  },
  {
   "cell_type": "code",
   "execution_count": 2,
   "metadata": {},
   "outputs": [],
   "source": [
    "df_raw = pd.read_csv('../data/이자보상배율_KOSPI+KOSDAQ.csv', dtype = {'거래소코드' : 'object'}, encoding='cp949')"
   ]
  },
  {
   "cell_type": "code",
   "execution_count": 3,
   "metadata": {},
   "outputs": [
    {
     "name": "stdout",
     "output_type": "stream",
     "text": [
      "<class 'pandas.core.frame.DataFrame'>\n",
      "RangeIndex: 26623 entries, 0 to 26622\n",
      "Data columns (total 17 columns):\n",
      " #   Column                                            Non-Null Count  Dtype  \n",
      "---  ------                                            --------------  -----  \n",
      " 0   회사명                                               26623 non-null  object \n",
      " 1   거래소코드                                             26623 non-null  object \n",
      " 2   회계년도                                              26623 non-null  object \n",
      " 3   상장일                                               26623 non-null  object \n",
      " 4   상장폐지일                                             1883 non-null   object \n",
      " 5   [제조]이자보상배율(이자비용)(IFRS연결)                          18466 non-null  float64\n",
      " 6   [제조]이자보상배율(이자비용)(IFRS)                            23905 non-null  float64\n",
      " 7   [U01B420000000][제조]* (정상)영업손익(보고서기재)(IFRS연결)(천원)  18613 non-null  float64\n",
      " 8   [U01B470010000][제조]   이자비용(IFRS연결)(천원)            16359 non-null  float64\n",
      " 9   [U01B550010000][제조]   이자비용(IFRS연결)(천원)            18613 non-null  float64\n",
      " 10  [U01B201013300][제조]   이자비용(IFRS연결)(천원)            18613 non-null  float64\n",
      " 11  [U01B350016400][제조]   이자비용(IFRS연결)(천원)            18613 non-null  float64\n",
      " 12  [U01B420000000][제조]* (정상)영업손익(보고서기재)(IFRS)(천원)    24224 non-null  float64\n",
      " 13  [U01B470010000][제조]   이자비용(IFRS)(천원)              21089 non-null  float64\n",
      " 14  [U01B550010000][제조]   이자비용(IFRS)(천원)              24224 non-null  float64\n",
      " 15  [U01B201013300][제조]   이자비용(IFRS)(천원)              24224 non-null  float64\n",
      " 16  [U01B350016400][제조]   이자비용(IFRS)(천원)              24224 non-null  float64\n",
      "dtypes: float64(12), object(5)\n",
      "memory usage: 3.5+ MB\n"
     ]
    }
   ],
   "source": [
    "df_raw.info()"
   ]
  },
  {
   "cell_type": "code",
   "execution_count": 4,
   "metadata": {},
   "outputs": [
    {
     "data": {
      "text/plain": [
       "(26623, 17)"
      ]
     },
     "execution_count": 4,
     "metadata": {},
     "output_type": "execute_result"
    }
   ],
   "source": [
    "# 정렬 후 저장\n",
    "df_raw.sort_values(['거래소코드', '회계년도', '상장일'], inplace=True)\n",
    "df_raw.reset_index(drop=True, inplace=True)\n",
    "df_raw.shape"
   ]
  },
  {
   "cell_type": "markdown",
   "metadata": {},
   "source": [
    "## 불필요 데이터 제거"
   ]
  },
  {
   "cell_type": "markdown",
   "metadata": {},
   "source": [
    "### (1) 중복 행 제거"
   ]
  },
  {
   "cell_type": "code",
   "execution_count": 5,
   "metadata": {},
   "outputs": [
    {
     "data": {
      "text/plain": [
       "(26543, 17)"
      ]
     },
     "execution_count": 5,
     "metadata": {},
     "output_type": "execute_result"
    }
   ],
   "source": [
    "# (1) 중복 행 제거 (이전상장한 경우 : KOSDAQ -> KOSPI)\n",
    "\n",
    "df_drop_dup = df_raw.drop_duplicates(\n",
    "    subset = ['거래소코드', '회계년도'], keep='first'\n",
    ")\n",
    "df_drop_dup.reset_index(drop=True)\n",
    "\n",
    "df_drop_dup.shape"
   ]
  },
  {
   "cell_type": "markdown",
   "metadata": {},
   "source": [
    "### (2) 12월 외 결산 보고서"
   ]
  },
  {
   "cell_type": "code",
   "execution_count": 6,
   "metadata": {},
   "outputs": [
    {
     "data": {
      "text/plain": [
       "결산월\n",
       "12    26351\n",
       "3        98\n",
       "6        64\n",
       "9        28\n",
       "10        1\n",
       "11        1\n",
       "Name: count, dtype: int64"
      ]
     },
     "execution_count": 6,
     "metadata": {},
     "output_type": "execute_result"
    }
   ],
   "source": [
    "df_drop_dup['결산월'] = pd.to_datetime(df_drop_dup['회계년도']).dt.month\n",
    "df_drop_dup['결산월'].value_counts()"
   ]
  },
  {
   "cell_type": "code",
   "execution_count": 7,
   "metadata": {},
   "outputs": [
    {
     "data": {
      "text/plain": [
       "array(['000220', '000440', '000760', '000970', '002720', '003000',\n",
       "       '005800', '005850', '006370', '007570', '011330', '018700',\n",
       "       '019660', '024720', '024850', '025270', '032680', '032980',\n",
       "       '033250', '034950', '035900', '039610', '040910', '042370',\n",
       "       '048770', '054050', '054180', '054220', '066430', '082920',\n",
       "       '092130', '114190', '121800', '124500', '131100', '160600',\n",
       "       '161890', '184230', '192400', '227950', '244920', '263750',\n",
       "       '278280', '330350', '950010'], dtype=object)"
      ]
     },
     "execution_count": 7,
     "metadata": {},
     "output_type": "execute_result"
    }
   ],
   "source": [
    "df_drop_dup[df_drop_dup['결산월']!=12]['거래소코드'].unique()"
   ]
  },
  {
   "cell_type": "code",
   "execution_count": 8,
   "metadata": {},
   "outputs": [
    {
     "data": {
      "text/html": [
       "<div>\n",
       "<style scoped>\n",
       "    .dataframe tbody tr th:only-of-type {\n",
       "        vertical-align: middle;\n",
       "    }\n",
       "\n",
       "    .dataframe tbody tr th {\n",
       "        vertical-align: top;\n",
       "    }\n",
       "\n",
       "    .dataframe thead th {\n",
       "        text-align: right;\n",
       "    }\n",
       "</style>\n",
       "<table border=\"1\" class=\"dataframe\">\n",
       "  <thead>\n",
       "    <tr style=\"text-align: right;\">\n",
       "      <th></th>\n",
       "      <th>회사명</th>\n",
       "      <th>거래소코드</th>\n",
       "      <th>회계년도</th>\n",
       "    </tr>\n",
       "  </thead>\n",
       "  <tbody>\n",
       "    <tr>\n",
       "      <th>132</th>\n",
       "      <td>(주)유유제약</td>\n",
       "      <td>000220</td>\n",
       "      <td>2011/03</td>\n",
       "    </tr>\n",
       "    <tr>\n",
       "      <th>133</th>\n",
       "      <td>(주)유유제약</td>\n",
       "      <td>000220</td>\n",
       "      <td>2012/03</td>\n",
       "    </tr>\n",
       "    <tr>\n",
       "      <th>134</th>\n",
       "      <td>(주)유유제약</td>\n",
       "      <td>000220</td>\n",
       "      <td>2013/03</td>\n",
       "    </tr>\n",
       "    <tr>\n",
       "      <th>135</th>\n",
       "      <td>(주)유유제약</td>\n",
       "      <td>000220</td>\n",
       "      <td>2014/03</td>\n",
       "    </tr>\n",
       "    <tr>\n",
       "      <th>136</th>\n",
       "      <td>(주)유유제약</td>\n",
       "      <td>000220</td>\n",
       "      <td>2015/03</td>\n",
       "    </tr>\n",
       "    <tr>\n",
       "      <th>137</th>\n",
       "      <td>(주)유유제약</td>\n",
       "      <td>000220</td>\n",
       "      <td>2016/03</td>\n",
       "    </tr>\n",
       "    <tr>\n",
       "      <th>138</th>\n",
       "      <td>(주)유유제약</td>\n",
       "      <td>000220</td>\n",
       "      <td>2017/03</td>\n",
       "    </tr>\n",
       "    <tr>\n",
       "      <th>139</th>\n",
       "      <td>(주)유유제약</td>\n",
       "      <td>000220</td>\n",
       "      <td>2018/12</td>\n",
       "    </tr>\n",
       "    <tr>\n",
       "      <th>140</th>\n",
       "      <td>(주)유유제약</td>\n",
       "      <td>000220</td>\n",
       "      <td>2019/12</td>\n",
       "    </tr>\n",
       "    <tr>\n",
       "      <th>141</th>\n",
       "      <td>(주)유유제약</td>\n",
       "      <td>000220</td>\n",
       "      <td>2020/12</td>\n",
       "    </tr>\n",
       "    <tr>\n",
       "      <th>142</th>\n",
       "      <td>(주)유유제약</td>\n",
       "      <td>000220</td>\n",
       "      <td>2021/12</td>\n",
       "    </tr>\n",
       "    <tr>\n",
       "      <th>143</th>\n",
       "      <td>(주)유유제약</td>\n",
       "      <td>000220</td>\n",
       "      <td>2022/12</td>\n",
       "    </tr>\n",
       "  </tbody>\n",
       "</table>\n",
       "</div>"
      ],
      "text/plain": [
       "         회사명   거래소코드     회계년도\n",
       "132  (주)유유제약  000220  2011/03\n",
       "133  (주)유유제약  000220  2012/03\n",
       "134  (주)유유제약  000220  2013/03\n",
       "135  (주)유유제약  000220  2014/03\n",
       "136  (주)유유제약  000220  2015/03\n",
       "137  (주)유유제약  000220  2016/03\n",
       "138  (주)유유제약  000220  2017/03\n",
       "139  (주)유유제약  000220  2018/12\n",
       "140  (주)유유제약  000220  2019/12\n",
       "141  (주)유유제약  000220  2020/12\n",
       "142  (주)유유제약  000220  2021/12\n",
       "143  (주)유유제약  000220  2022/12"
      ]
     },
     "execution_count": 8,
     "metadata": {},
     "output_type": "execute_result"
    }
   ],
   "source": [
    "# (대부분) 결산월이 변경된 케이스 : 12월 외 -> 12월\n",
    "df_drop_dup.loc[df_drop_dup['거래소코드']=='000220', ['회사명', '거래소코드', '회계년도']]"
   ]
  },
  {
   "cell_type": "code",
   "execution_count": 9,
   "metadata": {},
   "outputs": [
    {
     "data": {
      "text/html": [
       "<div>\n",
       "<style scoped>\n",
       "    .dataframe tbody tr th:only-of-type {\n",
       "        vertical-align: middle;\n",
       "    }\n",
       "\n",
       "    .dataframe tbody tr th {\n",
       "        vertical-align: top;\n",
       "    }\n",
       "\n",
       "    .dataframe thead th {\n",
       "        text-align: right;\n",
       "    }\n",
       "</style>\n",
       "<table border=\"1\" class=\"dataframe\">\n",
       "  <thead>\n",
       "    <tr style=\"text-align: right;\">\n",
       "      <th></th>\n",
       "      <th>회사명</th>\n",
       "      <th>거래소코드</th>\n",
       "      <th>회계년도</th>\n",
       "    </tr>\n",
       "  </thead>\n",
       "  <tbody>\n",
       "    <tr>\n",
       "      <th>22792</th>\n",
       "      <td>(주)엔투텍</td>\n",
       "      <td>227950</td>\n",
       "      <td>2015/12</td>\n",
       "    </tr>\n",
       "    <tr>\n",
       "      <th>22793</th>\n",
       "      <td>(주)엔투텍</td>\n",
       "      <td>227950</td>\n",
       "      <td>2016/12</td>\n",
       "    </tr>\n",
       "    <tr>\n",
       "      <th>22794</th>\n",
       "      <td>(주)엔투텍</td>\n",
       "      <td>227950</td>\n",
       "      <td>2017/12</td>\n",
       "    </tr>\n",
       "    <tr>\n",
       "      <th>22795</th>\n",
       "      <td>(주)엔투텍</td>\n",
       "      <td>227950</td>\n",
       "      <td>2018/12</td>\n",
       "    </tr>\n",
       "    <tr>\n",
       "      <th>22796</th>\n",
       "      <td>(주)엔투텍</td>\n",
       "      <td>227950</td>\n",
       "      <td>2020/06</td>\n",
       "    </tr>\n",
       "    <tr>\n",
       "      <th>22797</th>\n",
       "      <td>(주)엔투텍</td>\n",
       "      <td>227950</td>\n",
       "      <td>2021/06</td>\n",
       "    </tr>\n",
       "    <tr>\n",
       "      <th>22798</th>\n",
       "      <td>(주)엔투텍</td>\n",
       "      <td>227950</td>\n",
       "      <td>2022/06</td>\n",
       "    </tr>\n",
       "  </tbody>\n",
       "</table>\n",
       "</div>"
      ],
      "text/plain": [
       "          회사명   거래소코드     회계년도\n",
       "22792  (주)엔투텍  227950  2015/12\n",
       "22793  (주)엔투텍  227950  2016/12\n",
       "22794  (주)엔투텍  227950  2017/12\n",
       "22795  (주)엔투텍  227950  2018/12\n",
       "22796  (주)엔투텍  227950  2020/06\n",
       "22797  (주)엔투텍  227950  2021/06\n",
       "22798  (주)엔투텍  227950  2022/06"
      ]
     },
     "execution_count": 9,
     "metadata": {},
     "output_type": "execute_result"
    }
   ],
   "source": [
    "# 결산월이 변경된 케이스 : 12월 -> 12월 외\n",
    "\n",
    "# 거래소코드 : 131100, 227950, 024850\n",
    "df_drop_dup.loc[df_drop_dup['거래소코드']=='227950', ['회사명', '거래소코드', '회계년도']]"
   ]
  },
  {
   "cell_type": "code",
   "execution_count": 10,
   "metadata": {},
   "outputs": [
    {
     "data": {
      "text/html": [
       "<div>\n",
       "<style scoped>\n",
       "    .dataframe tbody tr th:only-of-type {\n",
       "        vertical-align: middle;\n",
       "    }\n",
       "\n",
       "    .dataframe tbody tr th {\n",
       "        vertical-align: top;\n",
       "    }\n",
       "\n",
       "    .dataframe thead th {\n",
       "        text-align: right;\n",
       "    }\n",
       "</style>\n",
       "<table border=\"1\" class=\"dataframe\">\n",
       "  <thead>\n",
       "    <tr style=\"text-align: right;\">\n",
       "      <th></th>\n",
       "      <th>회사명</th>\n",
       "      <th>거래소코드</th>\n",
       "      <th>회계년도</th>\n",
       "    </tr>\n",
       "  </thead>\n",
       "  <tbody>\n",
       "    <tr>\n",
       "      <th>15183</th>\n",
       "      <td>(주)비츠로셀</td>\n",
       "      <td>082920</td>\n",
       "      <td>2011/03</td>\n",
       "    </tr>\n",
       "    <tr>\n",
       "      <th>15184</th>\n",
       "      <td>(주)비츠로셀</td>\n",
       "      <td>082920</td>\n",
       "      <td>2012/03</td>\n",
       "    </tr>\n",
       "    <tr>\n",
       "      <th>15185</th>\n",
       "      <td>(주)비츠로셀</td>\n",
       "      <td>082920</td>\n",
       "      <td>2013/03</td>\n",
       "    </tr>\n",
       "    <tr>\n",
       "      <th>15186</th>\n",
       "      <td>(주)비츠로셀</td>\n",
       "      <td>082920</td>\n",
       "      <td>2014/03</td>\n",
       "    </tr>\n",
       "    <tr>\n",
       "      <th>15187</th>\n",
       "      <td>(주)비츠로셀</td>\n",
       "      <td>082920</td>\n",
       "      <td>2015/06</td>\n",
       "    </tr>\n",
       "    <tr>\n",
       "      <th>15188</th>\n",
       "      <td>(주)비츠로셀</td>\n",
       "      <td>082920</td>\n",
       "      <td>2016/06</td>\n",
       "    </tr>\n",
       "    <tr>\n",
       "      <th>15189</th>\n",
       "      <td>(주)비츠로셀</td>\n",
       "      <td>082920</td>\n",
       "      <td>2017/06</td>\n",
       "    </tr>\n",
       "    <tr>\n",
       "      <th>15190</th>\n",
       "      <td>(주)비츠로셀</td>\n",
       "      <td>082920</td>\n",
       "      <td>2018/12</td>\n",
       "    </tr>\n",
       "    <tr>\n",
       "      <th>15191</th>\n",
       "      <td>(주)비츠로셀</td>\n",
       "      <td>082920</td>\n",
       "      <td>2019/12</td>\n",
       "    </tr>\n",
       "    <tr>\n",
       "      <th>15192</th>\n",
       "      <td>(주)비츠로셀</td>\n",
       "      <td>082920</td>\n",
       "      <td>2020/12</td>\n",
       "    </tr>\n",
       "    <tr>\n",
       "      <th>15193</th>\n",
       "      <td>(주)비츠로셀</td>\n",
       "      <td>082920</td>\n",
       "      <td>2021/12</td>\n",
       "    </tr>\n",
       "    <tr>\n",
       "      <th>15194</th>\n",
       "      <td>(주)비츠로셀</td>\n",
       "      <td>082920</td>\n",
       "      <td>2022/12</td>\n",
       "    </tr>\n",
       "  </tbody>\n",
       "</table>\n",
       "</div>"
      ],
      "text/plain": [
       "           회사명   거래소코드     회계년도\n",
       "15183  (주)비츠로셀  082920  2011/03\n",
       "15184  (주)비츠로셀  082920  2012/03\n",
       "15185  (주)비츠로셀  082920  2013/03\n",
       "15186  (주)비츠로셀  082920  2014/03\n",
       "15187  (주)비츠로셀  082920  2015/06\n",
       "15188  (주)비츠로셀  082920  2016/06\n",
       "15189  (주)비츠로셀  082920  2017/06\n",
       "15190  (주)비츠로셀  082920  2018/12\n",
       "15191  (주)비츠로셀  082920  2019/12\n",
       "15192  (주)비츠로셀  082920  2020/12\n",
       "15193  (주)비츠로셀  082920  2021/12\n",
       "15194  (주)비츠로셀  082920  2022/12"
      ]
     },
     "execution_count": 10,
     "metadata": {},
     "output_type": "execute_result"
    }
   ],
   "source": [
    "# 결산월 : 3월 -> 6월 -> 12월\n",
    "\n",
    "# 거래소코드 : 042370, 082920\n",
    "df_drop_dup.loc[df_drop_dup['거래소코드']=='082920', ['회사명', '거래소코드', '회계년도']]"
   ]
  },
  {
   "cell_type": "code",
   "execution_count": 11,
   "metadata": {},
   "outputs": [
    {
     "data": {
      "text/html": [
       "<div>\n",
       "<style scoped>\n",
       "    .dataframe tbody tr th:only-of-type {\n",
       "        vertical-align: middle;\n",
       "    }\n",
       "\n",
       "    .dataframe tbody tr th {\n",
       "        vertical-align: top;\n",
       "    }\n",
       "\n",
       "    .dataframe thead th {\n",
       "        text-align: right;\n",
       "    }\n",
       "</style>\n",
       "<table border=\"1\" class=\"dataframe\">\n",
       "  <thead>\n",
       "    <tr style=\"text-align: right;\">\n",
       "      <th></th>\n",
       "      <th>회사명</th>\n",
       "      <th>거래소코드</th>\n",
       "      <th>회계년도</th>\n",
       "    </tr>\n",
       "  </thead>\n",
       "  <tbody>\n",
       "    <tr>\n",
       "      <th>8124</th>\n",
       "      <td>(주)체시스</td>\n",
       "      <td>033250</td>\n",
       "      <td>2011/06</td>\n",
       "    </tr>\n",
       "    <tr>\n",
       "      <th>8125</th>\n",
       "      <td>(주)체시스</td>\n",
       "      <td>033250</td>\n",
       "      <td>2012/06</td>\n",
       "    </tr>\n",
       "    <tr>\n",
       "      <th>8126</th>\n",
       "      <td>(주)체시스</td>\n",
       "      <td>033250</td>\n",
       "      <td>2013/06</td>\n",
       "    </tr>\n",
       "    <tr>\n",
       "      <th>8127</th>\n",
       "      <td>(주)체시스</td>\n",
       "      <td>033250</td>\n",
       "      <td>2014/06</td>\n",
       "    </tr>\n",
       "    <tr>\n",
       "      <th>8128</th>\n",
       "      <td>(주)체시스</td>\n",
       "      <td>033250</td>\n",
       "      <td>2015/06</td>\n",
       "    </tr>\n",
       "    <tr>\n",
       "      <th>8129</th>\n",
       "      <td>(주)체시스</td>\n",
       "      <td>033250</td>\n",
       "      <td>2016/06</td>\n",
       "    </tr>\n",
       "    <tr>\n",
       "      <th>8130</th>\n",
       "      <td>(주)체시스</td>\n",
       "      <td>033250</td>\n",
       "      <td>2017/06</td>\n",
       "    </tr>\n",
       "    <tr>\n",
       "      <th>8131</th>\n",
       "      <td>(주)체시스</td>\n",
       "      <td>033250</td>\n",
       "      <td>2018/06</td>\n",
       "    </tr>\n",
       "    <tr>\n",
       "      <th>8132</th>\n",
       "      <td>(주)체시스</td>\n",
       "      <td>033250</td>\n",
       "      <td>2019/06</td>\n",
       "    </tr>\n",
       "    <tr>\n",
       "      <th>8133</th>\n",
       "      <td>(주)체시스</td>\n",
       "      <td>033250</td>\n",
       "      <td>2020/06</td>\n",
       "    </tr>\n",
       "    <tr>\n",
       "      <th>8134</th>\n",
       "      <td>(주)체시스</td>\n",
       "      <td>033250</td>\n",
       "      <td>2021/06</td>\n",
       "    </tr>\n",
       "    <tr>\n",
       "      <th>8135</th>\n",
       "      <td>(주)체시스</td>\n",
       "      <td>033250</td>\n",
       "      <td>2022/06</td>\n",
       "    </tr>\n",
       "  </tbody>\n",
       "</table>\n",
       "</div>"
      ],
      "text/plain": [
       "         회사명   거래소코드     회계년도\n",
       "8124  (주)체시스  033250  2011/06\n",
       "8125  (주)체시스  033250  2012/06\n",
       "8126  (주)체시스  033250  2013/06\n",
       "8127  (주)체시스  033250  2014/06\n",
       "8128  (주)체시스  033250  2015/06\n",
       "8129  (주)체시스  033250  2016/06\n",
       "8130  (주)체시스  033250  2017/06\n",
       "8131  (주)체시스  033250  2018/06\n",
       "8132  (주)체시스  033250  2019/06\n",
       "8133  (주)체시스  033250  2020/06\n",
       "8134  (주)체시스  033250  2021/06\n",
       "8135  (주)체시스  033250  2022/06"
      ]
     },
     "execution_count": 11,
     "metadata": {},
     "output_type": "execute_result"
    }
   ],
   "source": [
    "# 결산월이 12월이 아닌 경우\n",
    "# 거래소코드 : 033250(6월), 054220(3월)\n",
    "df_drop_dup.loc[df_drop_dup['거래소코드']=='033250', ['회사명', '거래소코드', '회계년도']]"
   ]
  },
  {
   "cell_type": "code",
   "execution_count": 12,
   "metadata": {},
   "outputs": [
    {
     "data": {
      "text/html": [
       "<div>\n",
       "<style scoped>\n",
       "    .dataframe tbody tr th:only-of-type {\n",
       "        vertical-align: middle;\n",
       "    }\n",
       "\n",
       "    .dataframe tbody tr th {\n",
       "        vertical-align: top;\n",
       "    }\n",
       "\n",
       "    .dataframe thead th {\n",
       "        text-align: right;\n",
       "    }\n",
       "</style>\n",
       "<table border=\"1\" class=\"dataframe\">\n",
       "  <thead>\n",
       "    <tr style=\"text-align: right;\">\n",
       "      <th></th>\n",
       "      <th>회사명</th>\n",
       "      <th>거래소코드</th>\n",
       "      <th>회계년도</th>\n",
       "      <th>상장폐지일</th>\n",
       "    </tr>\n",
       "  </thead>\n",
       "  <tbody>\n",
       "    <tr>\n",
       "      <th>4770</th>\n",
       "      <td>(주)유니켐</td>\n",
       "      <td>011330</td>\n",
       "      <td>2011/12</td>\n",
       "      <td>NaN</td>\n",
       "    </tr>\n",
       "    <tr>\n",
       "      <th>4771</th>\n",
       "      <td>(주)유니켐</td>\n",
       "      <td>011330</td>\n",
       "      <td>2012/12</td>\n",
       "      <td>NaN</td>\n",
       "    </tr>\n",
       "    <tr>\n",
       "      <th>4772</th>\n",
       "      <td>(주)유니켐</td>\n",
       "      <td>011330</td>\n",
       "      <td>2013/12</td>\n",
       "      <td>NaN</td>\n",
       "    </tr>\n",
       "    <tr>\n",
       "      <th>4773</th>\n",
       "      <td>(주)유니켐</td>\n",
       "      <td>011330</td>\n",
       "      <td>2015/06</td>\n",
       "      <td>NaN</td>\n",
       "    </tr>\n",
       "    <tr>\n",
       "      <th>4774</th>\n",
       "      <td>(주)유니켐</td>\n",
       "      <td>011330</td>\n",
       "      <td>2016/12</td>\n",
       "      <td>NaN</td>\n",
       "    </tr>\n",
       "    <tr>\n",
       "      <th>4775</th>\n",
       "      <td>(주)유니켐</td>\n",
       "      <td>011330</td>\n",
       "      <td>2017/12</td>\n",
       "      <td>NaN</td>\n",
       "    </tr>\n",
       "    <tr>\n",
       "      <th>4776</th>\n",
       "      <td>(주)유니켐</td>\n",
       "      <td>011330</td>\n",
       "      <td>2018/12</td>\n",
       "      <td>NaN</td>\n",
       "    </tr>\n",
       "    <tr>\n",
       "      <th>4777</th>\n",
       "      <td>(주)유니켐</td>\n",
       "      <td>011330</td>\n",
       "      <td>2019/12</td>\n",
       "      <td>NaN</td>\n",
       "    </tr>\n",
       "    <tr>\n",
       "      <th>4778</th>\n",
       "      <td>(주)유니켐</td>\n",
       "      <td>011330</td>\n",
       "      <td>2020/12</td>\n",
       "      <td>NaN</td>\n",
       "    </tr>\n",
       "    <tr>\n",
       "      <th>4779</th>\n",
       "      <td>(주)유니켐</td>\n",
       "      <td>011330</td>\n",
       "      <td>2021/12</td>\n",
       "      <td>NaN</td>\n",
       "    </tr>\n",
       "    <tr>\n",
       "      <th>4780</th>\n",
       "      <td>(주)유니켐</td>\n",
       "      <td>011330</td>\n",
       "      <td>2022/12</td>\n",
       "      <td>NaN</td>\n",
       "    </tr>\n",
       "  </tbody>\n",
       "</table>\n",
       "</div>"
      ],
      "text/plain": [
       "         회사명   거래소코드     회계년도 상장폐지일\n",
       "4770  (주)유니켐  011330  2011/12   NaN\n",
       "4771  (주)유니켐  011330  2012/12   NaN\n",
       "4772  (주)유니켐  011330  2013/12   NaN\n",
       "4773  (주)유니켐  011330  2015/06   NaN\n",
       "4774  (주)유니켐  011330  2016/12   NaN\n",
       "4775  (주)유니켐  011330  2017/12   NaN\n",
       "4776  (주)유니켐  011330  2018/12   NaN\n",
       "4777  (주)유니켐  011330  2019/12   NaN\n",
       "4778  (주)유니켐  011330  2020/12   NaN\n",
       "4779  (주)유니켐  011330  2021/12   NaN\n",
       "4780  (주)유니켐  011330  2022/12   NaN"
      ]
     },
     "execution_count": 12,
     "metadata": {},
     "output_type": "execute_result"
    }
   ],
   "source": [
    "# 12월 결산, 특정 기간에만 결산월이 12월이 아닌 케이스\n",
    "# -> 거래정지로 인해 일시적인 현상으로 파악\n",
    "# 거래소코드 : 011330, 263750, 160600\n",
    "df_drop_dup.loc[df_drop_dup['거래소코드']=='011330', ['회사명', '거래소코드', '회계년도', '상장폐지일']]\n",
    "\n",
    "# 011330 : (주)유니켐\n",
    "# 거래정지\n",
    "\n",
    "# 160600 : (주)이큐셀\n",
    "# 사업보고서 제출 기한 연장 신고 : 회계감사 관련 외부감사 진행중\n",
    "# 제17기(2020년 01월 01일~2020년 06월 30일)의 회계연도에 대한 회계감사와 관련하여 현재 외부감사인으로부터 외부감사를 수행 중에 있습니다. \n",
    "# 재무제표 감사 범위 내 중요한 자료 등에 대한 수령 및 절차가 지연되고 있어 공시일 현재 감사절차가 완료되지 않은 상태입니다. "
   ]
  },
  {
   "cell_type": "code",
   "execution_count": 13,
   "metadata": {},
   "outputs": [
    {
     "data": {
      "text/plain": [
       "(26351, 18)"
      ]
     },
     "execution_count": 13,
     "metadata": {},
     "output_type": "execute_result"
    }
   ],
   "source": [
    "# 결산월이 12월이 아닌 데이터 제거\n",
    "df_drop_month = df_drop_dup[df_drop_dup['결산월']==12]\n",
    "df_drop_month.shape"
   ]
  },
  {
   "cell_type": "code",
   "execution_count": 14,
   "metadata": {},
   "outputs": [
    {
     "data": {
      "text/plain": [
       "결산월\n",
       "12    26351\n",
       "Name: count, dtype: int64"
      ]
     },
     "execution_count": 14,
     "metadata": {},
     "output_type": "execute_result"
    }
   ],
   "source": [
    "df_drop_month['결산월'].value_counts()"
   ]
  },
  {
   "cell_type": "code",
   "execution_count": 15,
   "metadata": {},
   "outputs": [],
   "source": [
    "# 결산월 컬럼 제거\n",
    "df_drop_month = df_drop_month.drop(columns=['결산월'])"
   ]
  },
  {
   "cell_type": "markdown",
   "metadata": {},
   "source": [
    "### (3) 상장 이전 데이터 제거"
   ]
  },
  {
   "cell_type": "code",
   "execution_count": 16,
   "metadata": {},
   "outputs": [],
   "source": [
    "df_drop_month['결산년도'] = pd.to_datetime(df_drop_month['회계년도']).dt.year\n",
    "df_drop_month['상장년도'] = pd.to_datetime(df_drop_month['상장일']).dt.year"
   ]
  },
  {
   "cell_type": "code",
   "execution_count": 17,
   "metadata": {},
   "outputs": [
    {
     "data": {
      "text/plain": [
       "(22485, 19)"
      ]
     },
     "execution_count": 17,
     "metadata": {},
     "output_type": "execute_result"
    }
   ],
   "source": [
    "# 상장년도 이후 결산 보고서만 남기기\n",
    "df_drop = df_drop_month[df_drop_month['결산년도']>=df_drop_month['상장년도']]\n",
    "df_drop.shape"
   ]
  },
  {
   "cell_type": "markdown",
   "metadata": {},
   "source": [
    "### (4) KONEX 상장 종목 제거"
   ]
  },
  {
   "cell_type": "code",
   "execution_count": 18,
   "metadata": {},
   "outputs": [],
   "source": [
    "df = df_drop.copy()"
   ]
  },
  {
   "cell_type": "code",
   "execution_count": 19,
   "metadata": {},
   "outputs": [
    {
     "name": "stderr",
     "output_type": "stream",
     "text": [
      "100%|██████████| 12/12 [00:13<00:00,  1.15s/it]\n"
     ]
    },
    {
     "data": {
      "text/plain": [
       "0"
      ]
     },
     "execution_count": 19,
     "metadata": {},
     "output_type": "execute_result"
    }
   ],
   "source": [
    "# 회계년도별 상장 종목 리스트 조회\n",
    "from pykrx import stock\n",
    "from tqdm import tqdm\n",
    "\n",
    "df['market']=np.nan\n",
    "\n",
    "for year in tqdm(range(2011, 2023)):\n",
    "    kospi = stock.get_market_ticker_list(f'{year}1231', market='KOSPI')\n",
    "    df.loc[(df['결산년도']==year) & (df['거래소코드'].isin(kospi)), 'market'] = 'KOSPI'\n",
    "\n",
    "    kosdaq = stock.get_market_ticker_list(f'{year}1231', market='KOSDAQ')\n",
    "    df.loc[(df['결산년도']==year) & (df['거래소코드'].isin(kosdaq)), 'market'] = 'KOSDAQ'\n",
    "\n",
    "    konex = stock.get_market_ticker_list(f'{year}1231', market='KONEX')\n",
    "    df.loc[(df['결산년도']==year) & (df['거래소코드'].isin(konex)), 'market'] = 'KONEX'\n",
    "\n",
    "df['market'].isna().sum()"
   ]
  },
  {
   "cell_type": "code",
   "execution_count": 20,
   "metadata": {},
   "outputs": [
    {
     "data": {
      "text/plain": [
       "market\n",
       "KONEX       82\n",
       "KOSDAQ    1686\n",
       "KOSPI      803\n",
       "Name: 거래소코드, dtype: int64"
      ]
     },
     "execution_count": 20,
     "metadata": {},
     "output_type": "execute_result"
    }
   ],
   "source": [
    "# 시장별 상장 종목 수\n",
    "df.groupby('market')['거래소코드'].nunique()"
   ]
  },
  {
   "cell_type": "code",
   "execution_count": 21,
   "metadata": {},
   "outputs": [
    {
     "data": {
      "text/plain": [
       "(22245, 20)"
      ]
     },
     "execution_count": 21,
     "metadata": {},
     "output_type": "execute_result"
    }
   ],
   "source": [
    "# 코넥스 상장 종목 제거\n",
    "df = df[df['market']!='KONEX']\n",
    "df.shape"
   ]
  },
  {
   "cell_type": "code",
   "execution_count": 22,
   "metadata": {},
   "outputs": [
    {
     "data": {
      "text/plain": [
       "market\n",
       "KOSDAQ    1686\n",
       "KOSPI      803\n",
       "Name: 거래소코드, dtype: int64"
      ]
     },
     "execution_count": 22,
     "metadata": {},
     "output_type": "execute_result"
    }
   ],
   "source": [
    "# 시장별 상장 종목 수\n",
    "df.groupby('market')['거래소코드'].nunique()"
   ]
  },
  {
   "cell_type": "code",
   "execution_count": 23,
   "metadata": {},
   "outputs": [],
   "source": [
    "df.to_csv('../data/1_불필요종목제거.csv', index=None)"
   ]
  }
 ],
 "metadata": {
  "kernelspec": {
   "display_name": "Python 3",
   "language": "python",
   "name": "python3"
  },
  "language_info": {
   "codemirror_mode": {
    "name": "ipython",
    "version": 3
   },
   "file_extension": ".py",
   "mimetype": "text/x-python",
   "name": "python",
   "nbconvert_exporter": "python",
   "pygments_lexer": "ipython3",
   "version": "3.12.1"
  }
 },
 "nbformat": 4,
 "nbformat_minor": 2
}
