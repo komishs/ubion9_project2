{
 "cells": [
  {
   "cell_type": "code",
   "execution_count": 2,
   "metadata": {},
   "outputs": [
    {
     "name": "stdout",
     "output_type": "stream",
     "text": [
      "apple gothic\n"
     ]
    }
   ],
   "source": [
    "from tqdm import tqdm\n",
    "import warnings\n",
    "warnings.filterwarnings('ignore')\n",
    "\n",
    "import numpy as np\n",
    "\n",
    "import pandas as pd\n",
    "# 모든 행을 출력하도록 설정\n",
    "pd.set_option('display.max_rows', None)\n",
    "pd.set_option('display.max_columns', None)\n",
    "\n",
    "# 기본값으로 설정 (처음 5개와 마지막 5개 행만 출력)\n",
    "pd.reset_option('display.max_rows')\n",
    "\n",
    "# 출력 포맷 설정 (소수점 4자리까지)\n",
    "pd.options.display.float_format = '{:.4f}'.format\n",
    "\n",
    "import platform\n",
    "import seaborn as sns\n",
    "\n",
    "import matplotlib.pyplot as plt\n",
    "\n",
    "# 운영 체제 확인\n",
    "if platform.system() == 'Darwin':  # Mac\n",
    "    print('apple gothic')\n",
    "    font_name = 'AppleGothic'\n",
    "elif platform.system() == 'Windows':  # Windows\n",
    "    font_name = 'NanumGothic'\n",
    "else:\n",
    "    font_name = None\n",
    "\n",
    "# 한글 폰트 설정\n",
    "if font_name:\n",
    "    plt.rcParams['font.family'] = font_name\n",
    "\n",
    "# 마이너스 부호 설정\n",
    "plt.rcParams['axes.unicode_minus'] = False"
   ]
  },
  {
   "cell_type": "markdown",
   "metadata": {},
   "source": [
    "## 재무 데이터 로드 및 결합"
   ]
  },
  {
   "cell_type": "code",
   "execution_count": 3,
   "metadata": {},
   "outputs": [],
   "source": [
    "# (민식) 재무데이터_1.csv : 성장성, 수익성, 자산자본관계비율, 파생변수, 생산성\n",
    "df1 = pd.read_csv('../data/재무데이터_1.csv', dtype = {'거래소코드' : 'object'}, encoding='cp949')\n",
    "df1['거래소코드'] = df1['거래소코드'].str.zfill(6)\n",
    "\n",
    "# (지현) 재무데이터2.csv\n",
    "df2 = pd.read_csv('../data/재무데이터_2.csv', dtype = {'거래소코드' : 'object'}, encoding='cp949')\n",
    "df2['거래소코드'] = df2['거래소코드'].str.zfill(6)\n",
    "\n",
    "# 불필요 컬럼 제거\n",
    "df1.drop(columns = ['개월', '매출액(수익)', '비유동부채 ', '회사'], inplace=True)\n",
    "df2.drop(columns = ['개월'], inplace=True)"
   ]
  },
  {
   "cell_type": "code",
   "execution_count": 4,
   "metadata": {},
   "outputs": [
    {
     "data": {
      "text/plain": [
       "Index(['회사명', '거래소코드', '회계년도', '자산', '유형자산', '유동자산', '재고자산', '자본', '매출액',\n",
       "       '매출원가', '판매비와 관리비(물류원가 등 포함)', '기타(영업)비용', '당기제조원가', '급여', '퇴직급여',\n",
       "       '상품매출원가', '제품매출원가', '감가상각비', '대손상각비', '개발비상각', '기타무형자산상각비', '외환차익1',\n",
       "       '외화환산이익1', '외환차손1', '외화환산손실1', '외환차익2', '외화환산이익2', '외환차손2', '외환환산손실2',\n",
       "       '무형자산', '건설중인자산', '토지', '자본잉여금', '이익잉여금(결손금)', '미처분이익잉여금(결손금)',\n",
       "       '기타임의적립금', '(연차배당)', '(중간배당)', '배당금지급(-)', '단기차입금', '매입채무 및 기타유동채무',\n",
       "       '매출채권 및 기타유동채권', '비유동자산', '사채', '유동금융자산', '유동부채', '유동성장기부채',\n",
       "       '장기매입채무 및 기타비유동채무', '장기매출채권 및 기타비유동채권', '장기차입금', '현금및현금성자산',\n",
       "       '영업활동으로 인한 현금흐름', '유형자산의 증가', '무형자산의 증가', '연구개발비',\n",
       "       '종업원1인당 매출액(IFRS)(백만원)', '종업원1인당 부가가치(IFRS)(백만원)',\n",
       "       '종업원1인당 인건비(IFRS)(백만원)', '종업원수(IFRS)', '판매비와 관리비'],\n",
       "      dtype='object')"
      ]
     },
     "execution_count": 4,
     "metadata": {},
     "output_type": "execute_result"
    }
   ],
   "source": [
    "df1.columns"
   ]
  },
  {
   "cell_type": "code",
   "execution_count": 3,
   "metadata": {},
   "outputs": [
    {
     "data": {
      "text/plain": [
       "((26351, 87), (26351, 60), (26543, 30))"
      ]
     },
     "execution_count": 3,
     "metadata": {},
     "output_type": "execute_result"
    }
   ],
   "source": [
    "# 회사명, 거래소코드, 회계년도 기준 재무데이터 결합\n",
    "\n",
    "df_fin = pd.merge(\n",
    "    df1, df2,\n",
    "    on = ['회사명', '거래소코드', '회계년도'],\n",
    "    suffixes = ('', '_right')\n",
    ")\n",
    "\n",
    "df_fin.shape, df1.shape, df2.shape"
   ]
  },
  {
   "cell_type": "code",
   "execution_count": 4,
   "metadata": {},
   "outputs": [
    {
     "data": {
      "text/plain": [
       "(18,\n",
       " Index(['자본_right', '자산_right', '유동자산_right', '유동부채_right', '현금및현금성자산_right',\n",
       "        '유동금융자산_right', '매출채권 및 기타유동채권_right', '비유동자산_right', '장기차입금_right',\n",
       "        '단기차입금_right', '사채_right', '장기매출채권 및 기타비유동채권_right',\n",
       "        '장기매입채무 및 기타비유동채무_right', '매입채무 및 기타유동채무_right', '매출액_right',\n",
       "        '건설중인자산_right', '유형자산_right', '재고자산_right'],\n",
       "       dtype='object'))"
      ]
     },
     "execution_count": 4,
     "metadata": {},
     "output_type": "execute_result"
    }
   ],
   "source": [
    "# 중복 컬럼 확인\n",
    "drop_cols = df_fin.columns[df_fin.columns.str.endswith('_right')]\n",
    "len(drop_cols), drop_cols"
   ]
  },
  {
   "cell_type": "code",
   "execution_count": 5,
   "metadata": {},
   "outputs": [
    {
     "data": {
      "text/plain": [
       "(69,\n",
       " Index(['회사명', '거래소코드', '회계년도', '자산', '유형자산', '유동자산', '재고자산', '자본', '매출액',\n",
       "        '매출원가', '판매비와 관리비(물류원가 등 포함)', '기타(영업)비용', '당기제조원가', '급여', '퇴직급여',\n",
       "        '상품매출원가', '제품매출원가', '감가상각비', '대손상각비', '개발비상각', '기타무형자산상각비', '외환차익1',\n",
       "        '외화환산이익1', '외환차손1', '외화환산손실1', '외환차익2', '외화환산이익2', '외환차손2', '외환환산손실2',\n",
       "        '무형자산', '건설중인자산', '토지', '자본잉여금', '이익잉여금(결손금)', '미처분이익잉여금(결손금)',\n",
       "        '기타임의적립금', '(연차배당)', '(중간배당)', '배당금지급(-)', '단기차입금', '매입채무 및 기타유동채무',\n",
       "        '매출채권 및 기타유동채권', '비유동자산', '사채', '유동금융자산', '유동부채', '유동성장기부채',\n",
       "        '장기매입채무 및 기타비유동채무', '장기매출채권 및 기타비유동채권', '장기차입금', '현금및현금성자산',\n",
       "        '영업활동으로 인한 현금흐름', '유형자산의 증가', '무형자산의 증가', '연구개발비',\n",
       "        '종업원1인당 매출액(IFRS)(백만원)', '종업원1인당 부가가치(IFRS)(백만원)',\n",
       "        '종업원1인당 인건비(IFRS)(백만원)', '종업원수(IFRS)', '판매비와 관리비', '비유동부채', '영업활동현금흐름',\n",
       "        '부채', '유형자산의증가', '유형자산의감소', '(투자활동으로 인한 현금유출액)', '투자활동으로 인한 현금유입액',\n",
       "        '자본금', '관계기업 등 지분관련 투자자산'],\n",
       "       dtype='object'))"
      ]
     },
     "execution_count": 5,
     "metadata": {},
     "output_type": "execute_result"
    }
   ],
   "source": [
    "# 중복 컬럼 제거\n",
    "df_fin.drop(columns = drop_cols, inplace=True)\n",
    "\n",
    "# 중복 컬럼 제거 후 컬럼 수\n",
    "len(df_fin.columns), df_fin.columns"
   ]
  },
  {
   "cell_type": "markdown",
   "metadata": {},
   "source": [
    "## 이자보상배율 데이터 로드"
   ]
  },
  {
   "cell_type": "code",
   "execution_count": 6,
   "metadata": {},
   "outputs": [
    {
     "data": {
      "text/plain": [
       "(22245, 20)"
      ]
     },
     "execution_count": 6,
     "metadata": {},
     "output_type": "execute_result"
    }
   ],
   "source": [
    "df = pd.read_csv('../data/1_불필요종목제거.csv', dtype = {'거래소코드' : 'object'})\n",
    "df.shape"
   ]
  },
  {
   "cell_type": "code",
   "execution_count": 7,
   "metadata": {},
   "outputs": [
    {
     "data": {
      "text/plain": [
       "Index(['회사명', '거래소코드', '회계년도', '상장일', '상장폐지일', '[제조]이자보상배율(이자비용)(IFRS연결)',\n",
       "       '[제조]이자보상배율(이자비용)(IFRS)',\n",
       "       '[U01B420000000][제조]* (정상)영업손익(보고서기재)(IFRS연결)(천원)',\n",
       "       '[U01B470010000][제조]   이자비용(IFRS연결)(천원)',\n",
       "       '[U01B550010000][제조]   이자비용(IFRS연결)(천원)',\n",
       "       '[U01B201013300][제조]   이자비용(IFRS연결)(천원)',\n",
       "       '[U01B350016400][제조]   이자비용(IFRS연결)(천원)',\n",
       "       '[U01B420000000][제조]* (정상)영업손익(보고서기재)(IFRS)(천원)',\n",
       "       '[U01B470010000][제조]   이자비용(IFRS)(천원)',\n",
       "       '[U01B550010000][제조]   이자비용(IFRS)(천원)',\n",
       "       '[U01B201013300][제조]   이자비용(IFRS)(천원)',\n",
       "       '[U01B350016400][제조]   이자비용(IFRS)(천원)', '결산년도', '상장년도', 'market'],\n",
       "      dtype='object')"
      ]
     },
     "execution_count": 7,
     "metadata": {},
     "output_type": "execute_result"
    }
   ],
   "source": [
    "df.columns"
   ]
  },
  {
   "cell_type": "markdown",
   "metadata": {},
   "source": [
    "## 이자보상배율+재무데이터 결합"
   ]
  },
  {
   "cell_type": "code",
   "execution_count": 8,
   "metadata": {},
   "outputs": [
    {
     "data": {
      "text/plain": [
       "((22245, 86), (22245, 20), (26351, 69))"
      ]
     },
     "execution_count": 8,
     "metadata": {},
     "output_type": "execute_result"
    }
   ],
   "source": [
    "# 회사명, 거래소코드, 회계년도 기준 재무데이터 결합\n",
    "\n",
    "df_merged = pd.merge(\n",
    "    df, df_fin,\n",
    "    on = ['회사명', '거래소코드', '회계년도'],\n",
    "    suffixes = ('', '_right'),\n",
    "    how = 'left'\n",
    ")\n",
    "\n",
    "df_merged.shape, df.shape, df_fin.shape"
   ]
  },
  {
   "cell_type": "code",
   "execution_count": 9,
   "metadata": {},
   "outputs": [
    {
     "data": {
      "text/plain": [
       "(0, Index([], dtype='object'))"
      ]
     },
     "execution_count": 9,
     "metadata": {},
     "output_type": "execute_result"
    }
   ],
   "source": [
    "# 중복 컬럼 확인\n",
    "drop_cols = df_merged.columns[df_merged.columns.str.endswith('_right')]\n",
    "len(drop_cols), drop_cols"
   ]
  },
  {
   "cell_type": "markdown",
   "metadata": {},
   "source": [
    "## 파일로 저장"
   ]
  },
  {
   "cell_type": "code",
   "execution_count": 10,
   "metadata": {},
   "outputs": [],
   "source": [
    "df_merged.to_csv('../data/2_재무데이터결합.csv', index=None)"
   ]
  }
 ],
 "metadata": {
  "kernelspec": {
   "display_name": "Python 3 (ipykernel)",
   "language": "python",
   "name": "python3"
  },
  "language_info": {
   "codemirror_mode": {
    "name": "ipython",
    "version": 3
   },
   "file_extension": ".py",
   "mimetype": "text/x-python",
   "name": "python",
   "nbconvert_exporter": "python",
   "pygments_lexer": "ipython3",
   "version": "3.12.1"
  }
 },
 "nbformat": 4,
 "nbformat_minor": 4
}
